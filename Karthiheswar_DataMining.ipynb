{
 "cells": [
  {
   "cell_type": "code",
   "execution_count": 2,
   "metadata": {},
   "outputs": [],
   "source": [
    "import pandas as pd\n",
    "import numpy as np\n",
    "import seaborn as sns\n",
    "from sklearn.cluster import KMeans \n",
    "import matplotlib.pyplot as plt\n",
    "%matplotlib inline"
   ]
  },
  {
   "cell_type": "code",
   "execution_count": 3,
   "metadata": {},
   "outputs": [],
   "source": [
    "#1.1\n",
    "df = pd.read_csv(\"bank_marketing_part1_Data-1.csv\")"
   ]
  },
  {
   "cell_type": "code",
   "execution_count": 4,
   "metadata": {},
   "outputs": [
    {
     "data": {
      "text/html": [
       "<div>\n",
       "<style scoped>\n",
       "    .dataframe tbody tr th:only-of-type {\n",
       "        vertical-align: middle;\n",
       "    }\n",
       "\n",
       "    .dataframe tbody tr th {\n",
       "        vertical-align: top;\n",
       "    }\n",
       "\n",
       "    .dataframe thead th {\n",
       "        text-align: right;\n",
       "    }\n",
       "</style>\n",
       "<table border=\"1\" class=\"dataframe\">\n",
       "  <thead>\n",
       "    <tr style=\"text-align: right;\">\n",
       "      <th></th>\n",
       "      <th>spending</th>\n",
       "      <th>advance_payments</th>\n",
       "      <th>probability_of_full_payment</th>\n",
       "      <th>current_balance</th>\n",
       "      <th>credit_limit</th>\n",
       "      <th>min_payment_amt</th>\n",
       "      <th>max_spent_in_single_shopping</th>\n",
       "    </tr>\n",
       "  </thead>\n",
       "  <tbody>\n",
       "    <tr>\n",
       "      <th>0</th>\n",
       "      <td>19.94</td>\n",
       "      <td>16.92</td>\n",
       "      <td>0.8752</td>\n",
       "      <td>6.675</td>\n",
       "      <td>3.763</td>\n",
       "      <td>3.252</td>\n",
       "      <td>6.550</td>\n",
       "    </tr>\n",
       "    <tr>\n",
       "      <th>1</th>\n",
       "      <td>15.99</td>\n",
       "      <td>14.89</td>\n",
       "      <td>0.9064</td>\n",
       "      <td>5.363</td>\n",
       "      <td>3.582</td>\n",
       "      <td>3.336</td>\n",
       "      <td>5.144</td>\n",
       "    </tr>\n",
       "    <tr>\n",
       "      <th>2</th>\n",
       "      <td>18.95</td>\n",
       "      <td>16.42</td>\n",
       "      <td>0.8829</td>\n",
       "      <td>6.248</td>\n",
       "      <td>3.755</td>\n",
       "      <td>3.368</td>\n",
       "      <td>6.148</td>\n",
       "    </tr>\n",
       "    <tr>\n",
       "      <th>3</th>\n",
       "      <td>10.83</td>\n",
       "      <td>12.96</td>\n",
       "      <td>0.8099</td>\n",
       "      <td>5.278</td>\n",
       "      <td>2.641</td>\n",
       "      <td>5.182</td>\n",
       "      <td>5.185</td>\n",
       "    </tr>\n",
       "    <tr>\n",
       "      <th>4</th>\n",
       "      <td>17.99</td>\n",
       "      <td>15.86</td>\n",
       "      <td>0.8992</td>\n",
       "      <td>5.890</td>\n",
       "      <td>3.694</td>\n",
       "      <td>2.068</td>\n",
       "      <td>5.837</td>\n",
       "    </tr>\n",
       "  </tbody>\n",
       "</table>\n",
       "</div>"
      ],
      "text/plain": [
       "   spending  advance_payments  probability_of_full_payment  current_balance  \\\n",
       "0     19.94             16.92                       0.8752            6.675   \n",
       "1     15.99             14.89                       0.9064            5.363   \n",
       "2     18.95             16.42                       0.8829            6.248   \n",
       "3     10.83             12.96                       0.8099            5.278   \n",
       "4     17.99             15.86                       0.8992            5.890   \n",
       "\n",
       "   credit_limit  min_payment_amt  max_spent_in_single_shopping  \n",
       "0         3.763            3.252                         6.550  \n",
       "1         3.582            3.336                         5.144  \n",
       "2         3.755            3.368                         6.148  \n",
       "3         2.641            5.182                         5.185  \n",
       "4         3.694            2.068                         5.837  "
      ]
     },
     "execution_count": 4,
     "metadata": {},
     "output_type": "execute_result"
    }
   ],
   "source": [
    "df.head()"
   ]
  },
  {
   "cell_type": "code",
   "execution_count": 5,
   "metadata": {},
   "outputs": [
    {
     "name": "stdout",
     "output_type": "stream",
     "text": [
      "<class 'pandas.core.frame.DataFrame'>\n",
      "RangeIndex: 210 entries, 0 to 209\n",
      "Data columns (total 7 columns):\n",
      "spending                        210 non-null float64\n",
      "advance_payments                210 non-null float64\n",
      "probability_of_full_payment     210 non-null float64\n",
      "current_balance                 210 non-null float64\n",
      "credit_limit                    210 non-null float64\n",
      "min_payment_amt                 210 non-null float64\n",
      "max_spent_in_single_shopping    210 non-null float64\n",
      "dtypes: float64(7)\n",
      "memory usage: 11.6 KB\n"
     ]
    }
   ],
   "source": [
    "df.info()"
   ]
  },
  {
   "cell_type": "code",
   "execution_count": 6,
   "metadata": {},
   "outputs": [
    {
     "data": {
      "text/plain": [
       "0"
      ]
     },
     "execution_count": 6,
     "metadata": {},
     "output_type": "execute_result"
    }
   ],
   "source": [
    "df.duplicated().sum()"
   ]
  },
  {
   "cell_type": "code",
   "execution_count": 115,
   "metadata": {},
   "outputs": [
    {
     "data": {
      "text/html": [
       "<div>\n",
       "<style scoped>\n",
       "    .dataframe tbody tr th:only-of-type {\n",
       "        vertical-align: middle;\n",
       "    }\n",
       "\n",
       "    .dataframe tbody tr th {\n",
       "        vertical-align: top;\n",
       "    }\n",
       "\n",
       "    .dataframe thead th {\n",
       "        text-align: right;\n",
       "    }\n",
       "</style>\n",
       "<table border=\"1\" class=\"dataframe\">\n",
       "  <thead>\n",
       "    <tr style=\"text-align: right;\">\n",
       "      <th></th>\n",
       "      <th>spending</th>\n",
       "      <th>advance_payments</th>\n",
       "      <th>probability_of_full_payment</th>\n",
       "      <th>current_balance</th>\n",
       "      <th>credit_limit</th>\n",
       "      <th>min_payment_amt</th>\n",
       "      <th>max_spent_in_single_shopping</th>\n",
       "    </tr>\n",
       "  </thead>\n",
       "  <tbody>\n",
       "    <tr>\n",
       "      <th>count</th>\n",
       "      <td>210.000000</td>\n",
       "      <td>210.000000</td>\n",
       "      <td>210.000000</td>\n",
       "      <td>210.000000</td>\n",
       "      <td>210.000000</td>\n",
       "      <td>210.000000</td>\n",
       "      <td>210.000000</td>\n",
       "    </tr>\n",
       "    <tr>\n",
       "      <th>mean</th>\n",
       "      <td>14.847524</td>\n",
       "      <td>14.559286</td>\n",
       "      <td>0.870999</td>\n",
       "      <td>5.628533</td>\n",
       "      <td>3.258605</td>\n",
       "      <td>3.700201</td>\n",
       "      <td>5.408071</td>\n",
       "    </tr>\n",
       "    <tr>\n",
       "      <th>std</th>\n",
       "      <td>2.909699</td>\n",
       "      <td>1.305959</td>\n",
       "      <td>0.023629</td>\n",
       "      <td>0.443063</td>\n",
       "      <td>0.377714</td>\n",
       "      <td>1.503557</td>\n",
       "      <td>0.491480</td>\n",
       "    </tr>\n",
       "    <tr>\n",
       "      <th>min</th>\n",
       "      <td>10.590000</td>\n",
       "      <td>12.410000</td>\n",
       "      <td>0.808100</td>\n",
       "      <td>4.899000</td>\n",
       "      <td>2.630000</td>\n",
       "      <td>0.765100</td>\n",
       "      <td>4.519000</td>\n",
       "    </tr>\n",
       "    <tr>\n",
       "      <th>25%</th>\n",
       "      <td>12.270000</td>\n",
       "      <td>13.450000</td>\n",
       "      <td>0.856900</td>\n",
       "      <td>5.262250</td>\n",
       "      <td>2.944000</td>\n",
       "      <td>2.561500</td>\n",
       "      <td>5.045000</td>\n",
       "    </tr>\n",
       "    <tr>\n",
       "      <th>50%</th>\n",
       "      <td>14.355000</td>\n",
       "      <td>14.320000</td>\n",
       "      <td>0.873450</td>\n",
       "      <td>5.523500</td>\n",
       "      <td>3.237000</td>\n",
       "      <td>3.599000</td>\n",
       "      <td>5.223000</td>\n",
       "    </tr>\n",
       "    <tr>\n",
       "      <th>75%</th>\n",
       "      <td>17.305000</td>\n",
       "      <td>15.715000</td>\n",
       "      <td>0.887775</td>\n",
       "      <td>5.979750</td>\n",
       "      <td>3.561750</td>\n",
       "      <td>4.768750</td>\n",
       "      <td>5.877000</td>\n",
       "    </tr>\n",
       "    <tr>\n",
       "      <th>max</th>\n",
       "      <td>21.180000</td>\n",
       "      <td>17.250000</td>\n",
       "      <td>0.918300</td>\n",
       "      <td>6.675000</td>\n",
       "      <td>4.033000</td>\n",
       "      <td>8.456000</td>\n",
       "      <td>6.550000</td>\n",
       "    </tr>\n",
       "  </tbody>\n",
       "</table>\n",
       "</div>"
      ],
      "text/plain": [
       "         spending  advance_payments  probability_of_full_payment  \\\n",
       "count  210.000000        210.000000                   210.000000   \n",
       "mean    14.847524         14.559286                     0.870999   \n",
       "std      2.909699          1.305959                     0.023629   \n",
       "min     10.590000         12.410000                     0.808100   \n",
       "25%     12.270000         13.450000                     0.856900   \n",
       "50%     14.355000         14.320000                     0.873450   \n",
       "75%     17.305000         15.715000                     0.887775   \n",
       "max     21.180000         17.250000                     0.918300   \n",
       "\n",
       "       current_balance  credit_limit  min_payment_amt  \\\n",
       "count       210.000000    210.000000       210.000000   \n",
       "mean          5.628533      3.258605         3.700201   \n",
       "std           0.443063      0.377714         1.503557   \n",
       "min           4.899000      2.630000         0.765100   \n",
       "25%           5.262250      2.944000         2.561500   \n",
       "50%           5.523500      3.237000         3.599000   \n",
       "75%           5.979750      3.561750         4.768750   \n",
       "max           6.675000      4.033000         8.456000   \n",
       "\n",
       "       max_spent_in_single_shopping  \n",
       "count                    210.000000  \n",
       "mean                       5.408071  \n",
       "std                        0.491480  \n",
       "min                        4.519000  \n",
       "25%                        5.045000  \n",
       "50%                        5.223000  \n",
       "75%                        5.877000  \n",
       "max                        6.550000  "
      ]
     },
     "execution_count": 115,
     "metadata": {},
     "output_type": "execute_result"
    }
   ],
   "source": [
    "df.describe()"
   ]
  },
  {
   "cell_type": "code",
   "execution_count": 10,
   "metadata": {},
   "outputs": [
    {
     "name": "stdout",
     "output_type": "stream",
     "text": [
      "df_quantile(25%): spending                        12.27000\n",
      "advance_payments                13.45000\n",
      "probability_of_full_payment      0.85690\n",
      "current_balance                  5.26225\n",
      "credit_limit                     2.94400\n",
      "min_payment_amt                  2.56150\n",
      "max_spent_in_single_shopping     5.04500\n",
      "Name: 0.25, dtype: float64\n"
     ]
    }
   ],
   "source": [
    "print(\"df_quantile(25%):\",df.quantile(q=0.25))  # Prints the value below which 25% of the data lies"
   ]
  },
  {
   "cell_type": "code",
   "execution_count": 11,
   "metadata": {},
   "outputs": [
    {
     "name": "stdout",
     "output_type": "stream",
     "text": [
      "df_quantile(50%): spending                        14.35500\n",
      "advance_payments                14.32000\n",
      "probability_of_full_payment      0.87345\n",
      "current_balance                  5.52350\n",
      "credit_limit                     3.23700\n",
      "min_payment_amt                  3.59900\n",
      "max_spent_in_single_shopping     5.22300\n",
      "Name: 0.5, dtype: float64\n"
     ]
    }
   ],
   "source": [
    "print(\"df_quantile(50%):\",df.quantile(q=0.50))  # Prints the value below which 50% of the data lies"
   ]
  },
  {
   "cell_type": "code",
   "execution_count": 12,
   "metadata": {},
   "outputs": [
    {
     "name": "stdout",
     "output_type": "stream",
     "text": [
      "df_quantile(75%): spending                        17.305000\n",
      "advance_payments                15.715000\n",
      "probability_of_full_payment      0.887775\n",
      "current_balance                  5.979750\n",
      "credit_limit                     3.561750\n",
      "min_payment_amt                  4.768750\n",
      "max_spent_in_single_shopping     5.877000\n",
      "Name: 0.75, dtype: float64\n"
     ]
    }
   ],
   "source": [
    "print(\"df_quantile(75%):\",df.quantile(q=0.75))   # Prints the value below which 75% of the data lies"
   ]
  },
  {
   "cell_type": "code",
   "execution_count": 13,
   "metadata": {},
   "outputs": [
    {
     "data": {
      "text/plain": [
       "spending                        5.035000\n",
       "advance_payments                2.265000\n",
       "probability_of_full_payment     0.030875\n",
       "current_balance                 0.717500\n",
       "credit_limit                    0.617750\n",
       "min_payment_amt                 2.207250\n",
       "max_spent_in_single_shopping    0.832000\n",
       "dtype: float64"
      ]
     },
     "execution_count": 13,
     "metadata": {},
     "output_type": "execute_result"
    }
   ],
   "source": [
    "#the above output represents the IQR values for all the attributed.\n",
    "df.quantile(0.75) - df.quantile(0.25)"
   ]
  },
  {
   "cell_type": "code",
   "execution_count": 14,
   "metadata": {},
   "outputs": [
    {
     "name": "stdout",
     "output_type": "stream",
     "text": [
      "spending                        10.5900\n",
      "advance_payments                 4.8400\n",
      "probability_of_full_payment      0.1102\n",
      "current_balance                  1.7760\n",
      "credit_limit                     1.4030\n",
      "min_payment_amt                  7.6909\n",
      "max_spent_in_single_shopping     2.0310\n",
      "dtype: float64\n"
     ]
    }
   ],
   "source": [
    "#the above represents the difference between the highest value and lowest values for all individual attributes\n",
    "print(df.max() - df.min())"
   ]
  },
  {
   "cell_type": "code",
   "execution_count": 15,
   "metadata": {
    "scrolled": false
   },
   "outputs": [
    {
     "data": {
      "text/html": [
       "<div>\n",
       "<style scoped>\n",
       "    .dataframe tbody tr th:only-of-type {\n",
       "        vertical-align: middle;\n",
       "    }\n",
       "\n",
       "    .dataframe tbody tr th {\n",
       "        vertical-align: top;\n",
       "    }\n",
       "\n",
       "    .dataframe thead th {\n",
       "        text-align: right;\n",
       "    }\n",
       "</style>\n",
       "<table border=\"1\" class=\"dataframe\">\n",
       "  <thead>\n",
       "    <tr style=\"text-align: right;\">\n",
       "      <th></th>\n",
       "      <th>spending</th>\n",
       "      <th>advance_payments</th>\n",
       "      <th>probability_of_full_payment</th>\n",
       "      <th>current_balance</th>\n",
       "      <th>credit_limit</th>\n",
       "      <th>min_payment_amt</th>\n",
       "      <th>max_spent_in_single_shopping</th>\n",
       "    </tr>\n",
       "  </thead>\n",
       "  <tbody>\n",
       "    <tr>\n",
       "      <th>spending</th>\n",
       "      <td>8.466351</td>\n",
       "      <td>3.778443</td>\n",
       "      <td>0.041823</td>\n",
       "      <td>1.224704</td>\n",
       "      <td>1.066911</td>\n",
       "      <td>-1.004356</td>\n",
       "      <td>1.235133</td>\n",
       "    </tr>\n",
       "    <tr>\n",
       "      <th>advance_payments</th>\n",
       "      <td>3.778443</td>\n",
       "      <td>1.705528</td>\n",
       "      <td>0.016332</td>\n",
       "      <td>0.562666</td>\n",
       "      <td>0.466065</td>\n",
       "      <td>-0.426766</td>\n",
       "      <td>0.571753</td>\n",
       "    </tr>\n",
       "    <tr>\n",
       "      <th>probability_of_full_payment</th>\n",
       "      <td>0.041823</td>\n",
       "      <td>0.016332</td>\n",
       "      <td>0.000558</td>\n",
       "      <td>0.003852</td>\n",
       "      <td>0.006798</td>\n",
       "      <td>-0.011777</td>\n",
       "      <td>0.002634</td>\n",
       "    </tr>\n",
       "    <tr>\n",
       "      <th>current_balance</th>\n",
       "      <td>1.224704</td>\n",
       "      <td>0.562666</td>\n",
       "      <td>0.003852</td>\n",
       "      <td>0.196305</td>\n",
       "      <td>0.143992</td>\n",
       "      <td>-0.114290</td>\n",
       "      <td>0.203125</td>\n",
       "    </tr>\n",
       "    <tr>\n",
       "      <th>credit_limit</th>\n",
       "      <td>1.066911</td>\n",
       "      <td>0.466065</td>\n",
       "      <td>0.006798</td>\n",
       "      <td>0.143992</td>\n",
       "      <td>0.142668</td>\n",
       "      <td>-0.146543</td>\n",
       "      <td>0.139068</td>\n",
       "    </tr>\n",
       "    <tr>\n",
       "      <th>min_payment_amt</th>\n",
       "      <td>-1.004356</td>\n",
       "      <td>-0.426766</td>\n",
       "      <td>-0.011777</td>\n",
       "      <td>-0.114290</td>\n",
       "      <td>-0.146543</td>\n",
       "      <td>2.260684</td>\n",
       "      <td>-0.008187</td>\n",
       "    </tr>\n",
       "    <tr>\n",
       "      <th>max_spent_in_single_shopping</th>\n",
       "      <td>1.235133</td>\n",
       "      <td>0.571753</td>\n",
       "      <td>0.002634</td>\n",
       "      <td>0.203125</td>\n",
       "      <td>0.139068</td>\n",
       "      <td>-0.008187</td>\n",
       "      <td>0.241553</td>\n",
       "    </tr>\n",
       "  </tbody>\n",
       "</table>\n",
       "</div>"
      ],
      "text/plain": [
       "                              spending  advance_payments  \\\n",
       "spending                      8.466351          3.778443   \n",
       "advance_payments              3.778443          1.705528   \n",
       "probability_of_full_payment   0.041823          0.016332   \n",
       "current_balance               1.224704          0.562666   \n",
       "credit_limit                  1.066911          0.466065   \n",
       "min_payment_amt              -1.004356         -0.426766   \n",
       "max_spent_in_single_shopping  1.235133          0.571753   \n",
       "\n",
       "                              probability_of_full_payment  current_balance  \\\n",
       "spending                                         0.041823         1.224704   \n",
       "advance_payments                                 0.016332         0.562666   \n",
       "probability_of_full_payment                      0.000558         0.003852   \n",
       "current_balance                                  0.003852         0.196305   \n",
       "credit_limit                                     0.006798         0.143992   \n",
       "min_payment_amt                                 -0.011777        -0.114290   \n",
       "max_spent_in_single_shopping                     0.002634         0.203125   \n",
       "\n",
       "                              credit_limit  min_payment_amt  \\\n",
       "spending                          1.066911        -1.004356   \n",
       "advance_payments                  0.466065        -0.426766   \n",
       "probability_of_full_payment       0.006798        -0.011777   \n",
       "current_balance                   0.143992        -0.114290   \n",
       "credit_limit                      0.142668        -0.146543   \n",
       "min_payment_amt                  -0.146543         2.260684   \n",
       "max_spent_in_single_shopping      0.139068        -0.008187   \n",
       "\n",
       "                              max_spent_in_single_shopping  \n",
       "spending                                          1.235133  \n",
       "advance_payments                                  0.571753  \n",
       "probability_of_full_payment                       0.002634  \n",
       "current_balance                                   0.203125  \n",
       "credit_limit                                      0.139068  \n",
       "min_payment_amt                                  -0.008187  \n",
       "max_spent_in_single_shopping                      0.241553  "
      ]
     },
     "execution_count": 15,
     "metadata": {},
     "output_type": "execute_result"
    }
   ],
   "source": [
    "df.cov() # Prints the covariance of each attribute against every other attribute"
   ]
  },
  {
   "cell_type": "code",
   "execution_count": 16,
   "metadata": {},
   "outputs": [
    {
     "data": {
      "text/html": [
       "<div>\n",
       "<style scoped>\n",
       "    .dataframe tbody tr th:only-of-type {\n",
       "        vertical-align: middle;\n",
       "    }\n",
       "\n",
       "    .dataframe tbody tr th {\n",
       "        vertical-align: top;\n",
       "    }\n",
       "\n",
       "    .dataframe thead th {\n",
       "        text-align: right;\n",
       "    }\n",
       "</style>\n",
       "<table border=\"1\" class=\"dataframe\">\n",
       "  <thead>\n",
       "    <tr style=\"text-align: right;\">\n",
       "      <th></th>\n",
       "      <th>spending</th>\n",
       "      <th>advance_payments</th>\n",
       "      <th>probability_of_full_payment</th>\n",
       "      <th>current_balance</th>\n",
       "      <th>credit_limit</th>\n",
       "      <th>min_payment_amt</th>\n",
       "      <th>max_spent_in_single_shopping</th>\n",
       "    </tr>\n",
       "  </thead>\n",
       "  <tbody>\n",
       "    <tr>\n",
       "      <th>spending</th>\n",
       "      <td>1.000000</td>\n",
       "      <td>0.994341</td>\n",
       "      <td>0.608288</td>\n",
       "      <td>0.949985</td>\n",
       "      <td>0.970771</td>\n",
       "      <td>-0.229572</td>\n",
       "      <td>0.863693</td>\n",
       "    </tr>\n",
       "    <tr>\n",
       "      <th>advance_payments</th>\n",
       "      <td>0.994341</td>\n",
       "      <td>1.000000</td>\n",
       "      <td>0.529244</td>\n",
       "      <td>0.972422</td>\n",
       "      <td>0.944829</td>\n",
       "      <td>-0.217340</td>\n",
       "      <td>0.890784</td>\n",
       "    </tr>\n",
       "    <tr>\n",
       "      <th>probability_of_full_payment</th>\n",
       "      <td>0.608288</td>\n",
       "      <td>0.529244</td>\n",
       "      <td>1.000000</td>\n",
       "      <td>0.367915</td>\n",
       "      <td>0.761635</td>\n",
       "      <td>-0.331471</td>\n",
       "      <td>0.226825</td>\n",
       "    </tr>\n",
       "    <tr>\n",
       "      <th>current_balance</th>\n",
       "      <td>0.949985</td>\n",
       "      <td>0.972422</td>\n",
       "      <td>0.367915</td>\n",
       "      <td>1.000000</td>\n",
       "      <td>0.860415</td>\n",
       "      <td>-0.171562</td>\n",
       "      <td>0.932806</td>\n",
       "    </tr>\n",
       "    <tr>\n",
       "      <th>credit_limit</th>\n",
       "      <td>0.970771</td>\n",
       "      <td>0.944829</td>\n",
       "      <td>0.761635</td>\n",
       "      <td>0.860415</td>\n",
       "      <td>1.000000</td>\n",
       "      <td>-0.258037</td>\n",
       "      <td>0.749131</td>\n",
       "    </tr>\n",
       "    <tr>\n",
       "      <th>min_payment_amt</th>\n",
       "      <td>-0.229572</td>\n",
       "      <td>-0.217340</td>\n",
       "      <td>-0.331471</td>\n",
       "      <td>-0.171562</td>\n",
       "      <td>-0.258037</td>\n",
       "      <td>1.000000</td>\n",
       "      <td>-0.011079</td>\n",
       "    </tr>\n",
       "    <tr>\n",
       "      <th>max_spent_in_single_shopping</th>\n",
       "      <td>0.863693</td>\n",
       "      <td>0.890784</td>\n",
       "      <td>0.226825</td>\n",
       "      <td>0.932806</td>\n",
       "      <td>0.749131</td>\n",
       "      <td>-0.011079</td>\n",
       "      <td>1.000000</td>\n",
       "    </tr>\n",
       "  </tbody>\n",
       "</table>\n",
       "</div>"
      ],
      "text/plain": [
       "                              spending  advance_payments  \\\n",
       "spending                      1.000000          0.994341   \n",
       "advance_payments              0.994341          1.000000   \n",
       "probability_of_full_payment   0.608288          0.529244   \n",
       "current_balance               0.949985          0.972422   \n",
       "credit_limit                  0.970771          0.944829   \n",
       "min_payment_amt              -0.229572         -0.217340   \n",
       "max_spent_in_single_shopping  0.863693          0.890784   \n",
       "\n",
       "                              probability_of_full_payment  current_balance  \\\n",
       "spending                                         0.608288         0.949985   \n",
       "advance_payments                                 0.529244         0.972422   \n",
       "probability_of_full_payment                      1.000000         0.367915   \n",
       "current_balance                                  0.367915         1.000000   \n",
       "credit_limit                                     0.761635         0.860415   \n",
       "min_payment_amt                                 -0.331471        -0.171562   \n",
       "max_spent_in_single_shopping                     0.226825         0.932806   \n",
       "\n",
       "                              credit_limit  min_payment_amt  \\\n",
       "spending                          0.970771        -0.229572   \n",
       "advance_payments                  0.944829        -0.217340   \n",
       "probability_of_full_payment       0.761635        -0.331471   \n",
       "current_balance                   0.860415        -0.171562   \n",
       "credit_limit                      1.000000        -0.258037   \n",
       "min_payment_amt                  -0.258037         1.000000   \n",
       "max_spent_in_single_shopping      0.749131        -0.011079   \n",
       "\n",
       "                              max_spent_in_single_shopping  \n",
       "spending                                          0.863693  \n",
       "advance_payments                                  0.890784  \n",
       "probability_of_full_payment                       0.226825  \n",
       "current_balance                                   0.932806  \n",
       "credit_limit                                      0.749131  \n",
       "min_payment_amt                                  -0.011079  \n",
       "max_spent_in_single_shopping                      1.000000  "
      ]
     },
     "execution_count": 16,
     "metadata": {},
     "output_type": "execute_result"
    }
   ],
   "source": [
    "df.corr()  # prints the correlation coefficient between every pair of attributes"
   ]
  },
  {
   "cell_type": "code",
   "execution_count": 17,
   "metadata": {},
   "outputs": [
    {
     "data": {
      "image/png": "[encoded data removed]",
      "text/plain": [
       "<Figure size 1260x1260 with 56 Axes>"
      ]
     },
     "metadata": {
      "needs_background": "light"
     },
     "output_type": "display_data"
    }
   ],
   "source": [
    "sns.pairplot(df, kind=\"reg\")  # plots scatter plots for every pair of attributes and histograms along the diagonal\n",
    "plt.show()"
   ]
  },
  {
   "cell_type": "code",
   "execution_count": 18,
   "metadata": {},
   "outputs": [
    {
     "data": {
      "image/png": "[encoded data removed]",
      "text/plain": [
       "<Figure size 720x720 with 2 Axes>"
      ]
     },
     "metadata": {
      "needs_background": "light"
     },
     "output_type": "display_data"
    }
   ],
   "source": [
    "fig,ax = plt.subplots(figsize=(10, 10))   \n",
    "sns.heatmap(df.corr(), ax=ax, annot=True, linewidths=0.05, fmt= '.2f',cmap=\"magma\") # the color intensity is based on \n",
    "plt.show()"
   ]
  },
  {
   "cell_type": "code",
   "execution_count": 41,
   "metadata": {},
   "outputs": [
    {
     "data": {
      "text/plain": [
       "spending                        0.399889\n",
       "advance_payments                0.386573\n",
       "probability_of_full_payment    -0.537954\n",
       "current_balance                 0.525482\n",
       "credit_limit                    0.134378\n",
       "min_payment_amt                 0.401667\n",
       "max_spent_in_single_shopping    0.561897\n",
       "dtype: float64"
      ]
     },
     "execution_count": 41,
     "metadata": {},
     "output_type": "execute_result"
    }
   ],
   "source": [
    "df.skew()   # to measure the skeweness of every attribute"
   ]
  },
  {
   "cell_type": "code",
   "execution_count": 19,
   "metadata": {},
   "outputs": [],
   "source": [
    "#1.2\n",
    "from sklearn.preprocessing import StandardScaler"
   ]
  },
  {
   "cell_type": "code",
   "execution_count": 20,
   "metadata": {},
   "outputs": [],
   "source": [
    "X = StandardScaler()"
   ]
  },
  {
   "cell_type": "code",
   "execution_count": 21,
   "metadata": {},
   "outputs": [],
   "source": [
    "scaled_df = X.fit_transform(df)"
   ]
  },
  {
   "cell_type": "code",
   "execution_count": 22,
   "metadata": {},
   "outputs": [
    {
     "data": {
      "text/plain": [
       "array([[ 1.75435461,  1.81196782,  0.17822987, ...,  1.33857863,\n",
       "        -0.29880602,  2.3289982 ],\n",
       "       [ 0.39358228,  0.25383997,  1.501773  , ...,  0.85823561,\n",
       "        -0.24280501, -0.53858174],\n",
       "       [ 1.41330028,  1.42819249,  0.50487353, ...,  1.317348  ,\n",
       "        -0.22147129,  1.50910692],\n",
       "       ...,\n",
       "       [-0.2816364 , -0.30647202,  0.36488339, ..., -0.15287318,\n",
       "        -1.3221578 , -0.83023461],\n",
       "       [ 0.43836719,  0.33827054,  1.23027698, ...,  0.60081421,\n",
       "        -0.95348449,  0.07123789],\n",
       "       [ 0.24889256,  0.45340314, -0.77624835, ..., -0.07325831,\n",
       "        -0.70681338,  0.96047321]])"
      ]
     },
     "execution_count": 22,
     "metadata": {},
     "output_type": "execute_result"
    }
   ],
   "source": [
    "scaled_df"
   ]
  },
  {
   "cell_type": "code",
   "execution_count": 23,
   "metadata": {},
   "outputs": [
    {
     "data": {
      "text/html": [
       "<div>\n",
       "<style scoped>\n",
       "    .dataframe tbody tr th:only-of-type {\n",
       "        vertical-align: middle;\n",
       "    }\n",
       "\n",
       "    .dataframe tbody tr th {\n",
       "        vertical-align: top;\n",
       "    }\n",
       "\n",
       "    .dataframe thead th {\n",
       "        text-align: right;\n",
       "    }\n",
       "</style>\n",
       "<table border=\"1\" class=\"dataframe\">\n",
       "  <thead>\n",
       "    <tr style=\"text-align: right;\">\n",
       "      <th></th>\n",
       "      <th>spending</th>\n",
       "      <th>advance_payments</th>\n",
       "      <th>probability_of_full_payment</th>\n",
       "      <th>current_balance</th>\n",
       "      <th>credit_limit</th>\n",
       "      <th>min_payment_amt</th>\n",
       "      <th>max_spent_in_single_shopping</th>\n",
       "    </tr>\n",
       "  </thead>\n",
       "  <tbody>\n",
       "    <tr>\n",
       "      <th>0</th>\n",
       "      <td>1.754355</td>\n",
       "      <td>1.811968</td>\n",
       "      <td>0.178230</td>\n",
       "      <td>2.367533</td>\n",
       "      <td>1.338579</td>\n",
       "      <td>-0.298806</td>\n",
       "      <td>2.328998</td>\n",
       "    </tr>\n",
       "    <tr>\n",
       "      <th>1</th>\n",
       "      <td>0.393582</td>\n",
       "      <td>0.253840</td>\n",
       "      <td>1.501773</td>\n",
       "      <td>-0.600744</td>\n",
       "      <td>0.858236</td>\n",
       "      <td>-0.242805</td>\n",
       "      <td>-0.538582</td>\n",
       "    </tr>\n",
       "    <tr>\n",
       "      <th>2</th>\n",
       "      <td>1.413300</td>\n",
       "      <td>1.428192</td>\n",
       "      <td>0.504874</td>\n",
       "      <td>1.401485</td>\n",
       "      <td>1.317348</td>\n",
       "      <td>-0.221471</td>\n",
       "      <td>1.509107</td>\n",
       "    </tr>\n",
       "    <tr>\n",
       "      <th>3</th>\n",
       "      <td>-1.384034</td>\n",
       "      <td>-1.227533</td>\n",
       "      <td>-2.591878</td>\n",
       "      <td>-0.793049</td>\n",
       "      <td>-1.639017</td>\n",
       "      <td>0.987884</td>\n",
       "      <td>-0.454961</td>\n",
       "    </tr>\n",
       "    <tr>\n",
       "      <th>4</th>\n",
       "      <td>1.082581</td>\n",
       "      <td>0.998364</td>\n",
       "      <td>1.196340</td>\n",
       "      <td>0.591544</td>\n",
       "      <td>1.155464</td>\n",
       "      <td>-1.088154</td>\n",
       "      <td>0.874813</td>\n",
       "    </tr>\n",
       "  </tbody>\n",
       "</table>\n",
       "</div>"
      ],
      "text/plain": [
       "   spending  advance_payments  probability_of_full_payment  current_balance  \\\n",
       "0  1.754355          1.811968                     0.178230         2.367533   \n",
       "1  0.393582          0.253840                     1.501773        -0.600744   \n",
       "2  1.413300          1.428192                     0.504874         1.401485   \n",
       "3 -1.384034         -1.227533                    -2.591878        -0.793049   \n",
       "4  1.082581          0.998364                     1.196340         0.591544   \n",
       "\n",
       "   credit_limit  min_payment_amt  max_spent_in_single_shopping  \n",
       "0      1.338579        -0.298806                      2.328998  \n",
       "1      0.858236        -0.242805                     -0.538582  \n",
       "2      1.317348        -0.221471                      1.509107  \n",
       "3     -1.639017         0.987884                     -0.454961  \n",
       "4      1.155464        -1.088154                      0.874813  "
      ]
     },
     "execution_count": 23,
     "metadata": {},
     "output_type": "execute_result"
    }
   ],
   "source": [
    "scaled_df = pd.DataFrame(scaled_df, index=df.index, columns=df.columns)\n",
    "scaled_df.head()"
   ]
  },
  {
   "cell_type": "code",
   "execution_count": 24,
   "metadata": {},
   "outputs": [],
   "source": [
    "#1.3\n",
    "from scipy.cluster.hierarchy import dendrogram, linkage"
   ]
  },
  {
   "cell_type": "code",
   "execution_count": 25,
   "metadata": {},
   "outputs": [],
   "source": [
    "wardlink = linkage(df, method = 'ward')"
   ]
  },
  {
   "cell_type": "code",
   "execution_count": 26,
   "metadata": {},
   "outputs": [
    {
     "data": {
      "image/png": "[encoded data removed]",
      "text/plain": [
       "<Figure size 432x288 with 1 Axes>"
      ]
     },
     "metadata": {
      "needs_background": "light"
     },
     "output_type": "display_data"
    }
   ],
   "source": [
    "dend = dendrogram(wardlink)"
   ]
  },
  {
   "cell_type": "code",
   "execution_count": 27,
   "metadata": {},
   "outputs": [
    {
     "data": {
      "image/png": "[encoded data removed]",
      "text/plain": [
       "<Figure size 432x288 with 1 Axes>"
      ]
     },
     "metadata": {
      "needs_background": "light"
     },
     "output_type": "display_data"
    }
   ],
   "source": [
    "dend = dendrogram(wardlink,\n",
    "                 truncate_mode='lastp',\n",
    "                 p = 10,\n",
    "                 )"
   ]
  },
  {
   "cell_type": "code",
   "execution_count": 28,
   "metadata": {},
   "outputs": [],
   "source": [
    "#1.4\n",
    "wss=[]"
   ]
  },
  {
   "cell_type": "code",
   "execution_count": 29,
   "metadata": {},
   "outputs": [],
   "source": [
    "for i in range(1,11):\n",
    "    KM = KMeans(n_clusters=i)\n",
    "    KM.fit(scaled_df)\n",
    "    wss.append(KM.inertia_)"
   ]
  },
  {
   "cell_type": "code",
   "execution_count": 30,
   "metadata": {},
   "outputs": [
    {
     "data": {
      "text/plain": [
       "[1470.0,\n",
       " 659.1717544870407,\n",
       " 430.65897315130053,\n",
       " 371.301721277542,\n",
       " 326.53057813155976,\n",
       " 289.2201964988712,\n",
       " 263.5084204019588,\n",
       " 239.91744118551287,\n",
       " 222.51271082015415,\n",
       " 208.10735185286126]"
      ]
     },
     "execution_count": 30,
     "metadata": {},
     "output_type": "execute_result"
    }
   ],
   "source": [
    "wss"
   ]
  },
  {
   "cell_type": "code",
   "execution_count": 31,
   "metadata": {},
   "outputs": [
    {
     "data": {
      "text/plain": [
       "[<matplotlib.lines.Line2D at 0x92712439e8>]"
      ]
     },
     "execution_count": 31,
     "metadata": {},
     "output_type": "execute_result"
    },
    {
     "data": {
      "image/png": "[encoded data removed]",
      "text/plain": [
       "<Figure size 432x288 with 1 Axes>"
      ]
     },
     "metadata": {
      "needs_background": "light"
     },
     "output_type": "display_data"
    }
   ],
   "source": [
    "plt.plot(range(1,11), wss)"
   ]
  },
  {
   "cell_type": "code",
   "execution_count": 32,
   "metadata": {},
   "outputs": [],
   "source": [
    "#the optimum number of clusters are 3"
   ]
  },
  {
   "cell_type": "code",
   "execution_count": 33,
   "metadata": {},
   "outputs": [],
   "source": [
    "from sklearn.metrics import silhouette_samples, silhouette_score"
   ]
  },
  {
   "cell_type": "code",
   "execution_count": 36,
   "metadata": {},
   "outputs": [],
   "source": [
    "k_means = KMeans(n_clusters = 3)\n",
    "k_means.fit(scaled_df)\n",
    "labels = k_means.labels_"
   ]
  },
  {
   "cell_type": "code",
   "execution_count": 37,
   "metadata": {},
   "outputs": [
    {
     "data": {
      "text/plain": [
       "0.4007270552751299"
      ]
     },
     "execution_count": 37,
     "metadata": {},
     "output_type": "execute_result"
    }
   ],
   "source": [
    "silhouette_score(scaled_df,labels)"
   ]
  },
  {
   "cell_type": "code",
   "execution_count": 38,
   "metadata": {},
   "outputs": [],
   "source": [
    "sil_width = silhouette_samples(scaled_df,labels)"
   ]
  },
  {
   "cell_type": "code",
   "execution_count": 39,
   "metadata": {},
   "outputs": [
    {
     "data": {
      "text/plain": [
       "0.002713089347678533"
      ]
     },
     "execution_count": 39,
     "metadata": {},
     "output_type": "execute_result"
    }
   ],
   "source": [
    "silhouette_samples(scaled_df,labels).min()"
   ]
  },
  {
   "cell_type": "code",
   "execution_count": 40,
   "metadata": {},
   "outputs": [
    {
     "data": {
      "text/html": [
       "<div>\n",
       "<style scoped>\n",
       "    .dataframe tbody tr th:only-of-type {\n",
       "        vertical-align: middle;\n",
       "    }\n",
       "\n",
       "    .dataframe tbody tr th {\n",
       "        vertical-align: top;\n",
       "    }\n",
       "\n",
       "    .dataframe thead th {\n",
       "        text-align: right;\n",
       "    }\n",
       "</style>\n",
       "<table border=\"1\" class=\"dataframe\">\n",
       "  <thead>\n",
       "    <tr style=\"text-align: right;\">\n",
       "      <th></th>\n",
       "      <th>spending</th>\n",
       "      <th>advance_payments</th>\n",
       "      <th>probability_of_full_payment</th>\n",
       "      <th>current_balance</th>\n",
       "      <th>credit_limit</th>\n",
       "      <th>min_payment_amt</th>\n",
       "      <th>max_spent_in_single_shopping</th>\n",
       "      <th>Clus_kmeans</th>\n",
       "    </tr>\n",
       "  </thead>\n",
       "  <tbody>\n",
       "    <tr>\n",
       "      <th>0</th>\n",
       "      <td>1.754355</td>\n",
       "      <td>1.811968</td>\n",
       "      <td>0.178230</td>\n",
       "      <td>2.367533</td>\n",
       "      <td>1.338579</td>\n",
       "      <td>-0.298806</td>\n",
       "      <td>2.328998</td>\n",
       "      <td>0</td>\n",
       "    </tr>\n",
       "    <tr>\n",
       "      <th>1</th>\n",
       "      <td>0.393582</td>\n",
       "      <td>0.253840</td>\n",
       "      <td>1.501773</td>\n",
       "      <td>-0.600744</td>\n",
       "      <td>0.858236</td>\n",
       "      <td>-0.242805</td>\n",
       "      <td>-0.538582</td>\n",
       "      <td>2</td>\n",
       "    </tr>\n",
       "    <tr>\n",
       "      <th>2</th>\n",
       "      <td>1.413300</td>\n",
       "      <td>1.428192</td>\n",
       "      <td>0.504874</td>\n",
       "      <td>1.401485</td>\n",
       "      <td>1.317348</td>\n",
       "      <td>-0.221471</td>\n",
       "      <td>1.509107</td>\n",
       "      <td>0</td>\n",
       "    </tr>\n",
       "    <tr>\n",
       "      <th>3</th>\n",
       "      <td>-1.384034</td>\n",
       "      <td>-1.227533</td>\n",
       "      <td>-2.591878</td>\n",
       "      <td>-0.793049</td>\n",
       "      <td>-1.639017</td>\n",
       "      <td>0.987884</td>\n",
       "      <td>-0.454961</td>\n",
       "      <td>1</td>\n",
       "    </tr>\n",
       "    <tr>\n",
       "      <th>4</th>\n",
       "      <td>1.082581</td>\n",
       "      <td>0.998364</td>\n",
       "      <td>1.196340</td>\n",
       "      <td>0.591544</td>\n",
       "      <td>1.155464</td>\n",
       "      <td>-1.088154</td>\n",
       "      <td>0.874813</td>\n",
       "      <td>0</td>\n",
       "    </tr>\n",
       "  </tbody>\n",
       "</table>\n",
       "</div>"
      ],
      "text/plain": [
       "   spending  advance_payments  probability_of_full_payment  current_balance  \\\n",
       "0  1.754355          1.811968                     0.178230         2.367533   \n",
       "1  0.393582          0.253840                     1.501773        -0.600744   \n",
       "2  1.413300          1.428192                     0.504874         1.401485   \n",
       "3 -1.384034         -1.227533                    -2.591878        -0.793049   \n",
       "4  1.082581          0.998364                     1.196340         0.591544   \n",
       "\n",
       "   credit_limit  min_payment_amt  max_spent_in_single_shopping  Clus_kmeans  \n",
       "0      1.338579        -0.298806                      2.328998            0  \n",
       "1      0.858236        -0.242805                     -0.538582            2  \n",
       "2      1.317348        -0.221471                      1.509107            0  \n",
       "3     -1.639017         0.987884                     -0.454961            1  \n",
       "4      1.155464        -1.088154                      0.874813            0  "
      ]
     },
     "execution_count": 40,
     "metadata": {},
     "output_type": "execute_result"
    }
   ],
   "source": [
    "scaled_df[\"Clus_kmeans\"] = labels\n",
    "scaled_df.head(5)"
   ]
  },
  {
   "cell_type": "code",
   "execution_count": 41,
   "metadata": {},
   "outputs": [
    {
     "data": {
      "text/html": [
       "<div>\n",
       "<style scoped>\n",
       "    .dataframe tbody tr th:only-of-type {\n",
       "        vertical-align: middle;\n",
       "    }\n",
       "\n",
       "    .dataframe tbody tr th {\n",
       "        vertical-align: top;\n",
       "    }\n",
       "\n",
       "    .dataframe thead th {\n",
       "        text-align: right;\n",
       "    }\n",
       "</style>\n",
       "<table border=\"1\" class=\"dataframe\">\n",
       "  <thead>\n",
       "    <tr style=\"text-align: right;\">\n",
       "      <th></th>\n",
       "      <th>spending</th>\n",
       "      <th>advance_payments</th>\n",
       "      <th>probability_of_full_payment</th>\n",
       "      <th>current_balance</th>\n",
       "      <th>credit_limit</th>\n",
       "      <th>min_payment_amt</th>\n",
       "      <th>max_spent_in_single_shopping</th>\n",
       "      <th>freq</th>\n",
       "    </tr>\n",
       "    <tr>\n",
       "      <th>Clus_kmeans</th>\n",
       "      <th></th>\n",
       "      <th></th>\n",
       "      <th></th>\n",
       "      <th></th>\n",
       "      <th></th>\n",
       "      <th></th>\n",
       "      <th></th>\n",
       "      <th></th>\n",
       "    </tr>\n",
       "  </thead>\n",
       "  <tbody>\n",
       "    <tr>\n",
       "      <th>0</th>\n",
       "      <td>1.256682</td>\n",
       "      <td>1.261966</td>\n",
       "      <td>0.560464</td>\n",
       "      <td>1.237883</td>\n",
       "      <td>1.164852</td>\n",
       "      <td>-0.045219</td>\n",
       "      <td>1.292308</td>\n",
       "      <td>67</td>\n",
       "    </tr>\n",
       "    <tr>\n",
       "      <th>1</th>\n",
       "      <td>-1.030253</td>\n",
       "      <td>-1.006649</td>\n",
       "      <td>-0.964905</td>\n",
       "      <td>-0.897685</td>\n",
       "      <td>-1.085583</td>\n",
       "      <td>0.694804</td>\n",
       "      <td>-0.624809</td>\n",
       "      <td>72</td>\n",
       "    </tr>\n",
       "    <tr>\n",
       "      <th>2</th>\n",
       "      <td>-0.141119</td>\n",
       "      <td>-0.170043</td>\n",
       "      <td>0.449606</td>\n",
       "      <td>-0.257814</td>\n",
       "      <td>0.001647</td>\n",
       "      <td>-0.661919</td>\n",
       "      <td>-0.585893</td>\n",
       "      <td>71</td>\n",
       "    </tr>\n",
       "  </tbody>\n",
       "</table>\n",
       "</div>"
      ],
      "text/plain": [
       "             spending  advance_payments  probability_of_full_payment  \\\n",
       "Clus_kmeans                                                            \n",
       "0            1.256682          1.261966                     0.560464   \n",
       "1           -1.030253         -1.006649                    -0.964905   \n",
       "2           -0.141119         -0.170043                     0.449606   \n",
       "\n",
       "             current_balance  credit_limit  min_payment_amt  \\\n",
       "Clus_kmeans                                                   \n",
       "0                   1.237883      1.164852        -0.045219   \n",
       "1                  -0.897685     -1.085583         0.694804   \n",
       "2                  -0.257814      0.001647        -0.661919   \n",
       "\n",
       "             max_spent_in_single_shopping  freq  \n",
       "Clus_kmeans                                      \n",
       "0                                1.292308    67  \n",
       "1                               -0.624809    72  \n",
       "2                               -0.585893    71  "
      ]
     },
     "execution_count": 41,
     "metadata": {},
     "output_type": "execute_result"
    }
   ],
   "source": [
    "#1.5\n",
    "clust_profile=scaled_df\n",
    "clust_profile=clust_profile.groupby('Clus_kmeans').mean()\n",
    "clust_profile['freq']=scaled_df.Clus_kmeans.value_counts().sort_index()\n",
    "clust_profile"
   ]
  },
  {
   "cell_type": "code",
   "execution_count": 42,
   "metadata": {},
   "outputs": [],
   "source": [
    "from sklearn.model_selection import train_test_split\n",
    "from sklearn.preprocessing import StandardScaler\n",
    "from sklearn.neural_network import MLPClassifier\n",
    "from sklearn.tree import DecisionTreeClassifier\n",
    "from sklearn.ensemble import RandomForestClassifier\n",
    "from sklearn.metrics import confusion_matrix,classification_report,roc_auc_score,accuracy_score,roc_auc_score,roc_curve"
   ]
  },
  {
   "cell_type": "code",
   "execution_count": 43,
   "metadata": {},
   "outputs": [],
   "source": [
    "#2.1\n",
    "data=pd.read_csv('insurance_part2_data-2.csv')"
   ]
  },
  {
   "cell_type": "code",
   "execution_count": 44,
   "metadata": {},
   "outputs": [
    {
     "data": {
      "text/html": [
       "<div>\n",
       "<style scoped>\n",
       "    .dataframe tbody tr th:only-of-type {\n",
       "        vertical-align: middle;\n",
       "    }\n",
       "\n",
       "    .dataframe tbody tr th {\n",
       "        vertical-align: top;\n",
       "    }\n",
       "\n",
       "    .dataframe thead th {\n",
       "        text-align: right;\n",
       "    }\n",
       "</style>\n",
       "<table border=\"1\" class=\"dataframe\">\n",
       "  <thead>\n",
       "    <tr style=\"text-align: right;\">\n",
       "      <th></th>\n",
       "      <th>Age</th>\n",
       "      <th>Agency_Code</th>\n",
       "      <th>Type</th>\n",
       "      <th>Claimed</th>\n",
       "      <th>Commision</th>\n",
       "      <th>Channel</th>\n",
       "      <th>Duration</th>\n",
       "      <th>Sales</th>\n",
       "      <th>Product_Name</th>\n",
       "      <th>Destination</th>\n",
       "    </tr>\n",
       "  </thead>\n",
       "  <tbody>\n",
       "    <tr>\n",
       "      <th>0</th>\n",
       "      <td>48</td>\n",
       "      <td>C2B</td>\n",
       "      <td>Airlines</td>\n",
       "      <td>No</td>\n",
       "      <td>0.70</td>\n",
       "      <td>Online</td>\n",
       "      <td>7</td>\n",
       "      <td>2.51</td>\n",
       "      <td>Customised Plan</td>\n",
       "      <td>ASIA</td>\n",
       "    </tr>\n",
       "    <tr>\n",
       "      <th>1</th>\n",
       "      <td>36</td>\n",
       "      <td>EPX</td>\n",
       "      <td>Travel Agency</td>\n",
       "      <td>No</td>\n",
       "      <td>0.00</td>\n",
       "      <td>Online</td>\n",
       "      <td>34</td>\n",
       "      <td>20.00</td>\n",
       "      <td>Customised Plan</td>\n",
       "      <td>ASIA</td>\n",
       "    </tr>\n",
       "    <tr>\n",
       "      <th>2</th>\n",
       "      <td>39</td>\n",
       "      <td>CWT</td>\n",
       "      <td>Travel Agency</td>\n",
       "      <td>No</td>\n",
       "      <td>5.94</td>\n",
       "      <td>Online</td>\n",
       "      <td>3</td>\n",
       "      <td>9.90</td>\n",
       "      <td>Customised Plan</td>\n",
       "      <td>Americas</td>\n",
       "    </tr>\n",
       "    <tr>\n",
       "      <th>3</th>\n",
       "      <td>36</td>\n",
       "      <td>EPX</td>\n",
       "      <td>Travel Agency</td>\n",
       "      <td>No</td>\n",
       "      <td>0.00</td>\n",
       "      <td>Online</td>\n",
       "      <td>4</td>\n",
       "      <td>26.00</td>\n",
       "      <td>Cancellation Plan</td>\n",
       "      <td>ASIA</td>\n",
       "    </tr>\n",
       "    <tr>\n",
       "      <th>4</th>\n",
       "      <td>33</td>\n",
       "      <td>JZI</td>\n",
       "      <td>Airlines</td>\n",
       "      <td>No</td>\n",
       "      <td>6.30</td>\n",
       "      <td>Online</td>\n",
       "      <td>53</td>\n",
       "      <td>18.00</td>\n",
       "      <td>Bronze Plan</td>\n",
       "      <td>ASIA</td>\n",
       "    </tr>\n",
       "  </tbody>\n",
       "</table>\n",
       "</div>"
      ],
      "text/plain": [
       "   Age Agency_Code           Type Claimed  Commision Channel  Duration  Sales  \\\n",
       "0   48         C2B       Airlines      No       0.70  Online         7   2.51   \n",
       "1   36         EPX  Travel Agency      No       0.00  Online        34  20.00   \n",
       "2   39         CWT  Travel Agency      No       5.94  Online         3   9.90   \n",
       "3   36         EPX  Travel Agency      No       0.00  Online         4  26.00   \n",
       "4   33         JZI       Airlines      No       6.30  Online        53  18.00   \n",
       "\n",
       "        Product_Name Destination  \n",
       "0    Customised Plan        ASIA  \n",
       "1    Customised Plan        ASIA  \n",
       "2    Customised Plan    Americas  \n",
       "3  Cancellation Plan        ASIA  \n",
       "4        Bronze Plan        ASIA  "
      ]
     },
     "execution_count": 44,
     "metadata": {},
     "output_type": "execute_result"
    }
   ],
   "source": [
    "data.head()"
   ]
  },
  {
   "cell_type": "code",
   "execution_count": 45,
   "metadata": {},
   "outputs": [
    {
     "name": "stdout",
     "output_type": "stream",
     "text": [
      "<class 'pandas.core.frame.DataFrame'>\n",
      "RangeIndex: 3000 entries, 0 to 2999\n",
      "Data columns (total 10 columns):\n",
      "Age             3000 non-null int64\n",
      "Agency_Code     3000 non-null object\n",
      "Type            3000 non-null object\n",
      "Claimed         3000 non-null object\n",
      "Commision       3000 non-null float64\n",
      "Channel         3000 non-null object\n",
      "Duration        3000 non-null int64\n",
      "Sales           3000 non-null float64\n",
      "Product_Name    3000 non-null object\n",
      "Destination     3000 non-null object\n",
      "dtypes: float64(2), int64(2), object(6)\n",
      "memory usage: 234.5+ KB\n"
     ]
    }
   ],
   "source": [
    "data.info()"
   ]
  },
  {
   "cell_type": "code",
   "execution_count": 46,
   "metadata": {},
   "outputs": [
    {
     "data": {
      "text/plain": [
       "Age             0\n",
       "Agency_Code     0\n",
       "Type            0\n",
       "Claimed         0\n",
       "Commision       0\n",
       "Channel         0\n",
       "Duration        0\n",
       "Sales           0\n",
       "Product_Name    0\n",
       "Destination     0\n",
       "dtype: int64"
      ]
     },
     "execution_count": 46,
     "metadata": {},
     "output_type": "execute_result"
    }
   ],
   "source": [
    "data.isnull().sum()"
   ]
  },
  {
   "cell_type": "code",
   "execution_count": 47,
   "metadata": {},
   "outputs": [
    {
     "data": {
      "text/html": [
       "<div>\n",
       "<style scoped>\n",
       "    .dataframe tbody tr th:only-of-type {\n",
       "        vertical-align: middle;\n",
       "    }\n",
       "\n",
       "    .dataframe tbody tr th {\n",
       "        vertical-align: top;\n",
       "    }\n",
       "\n",
       "    .dataframe thead th {\n",
       "        text-align: right;\n",
       "    }\n",
       "</style>\n",
       "<table border=\"1\" class=\"dataframe\">\n",
       "  <thead>\n",
       "    <tr style=\"text-align: right;\">\n",
       "      <th></th>\n",
       "      <th>count</th>\n",
       "      <th>mean</th>\n",
       "      <th>std</th>\n",
       "      <th>min</th>\n",
       "      <th>25%</th>\n",
       "      <th>50%</th>\n",
       "      <th>75%</th>\n",
       "      <th>max</th>\n",
       "    </tr>\n",
       "  </thead>\n",
       "  <tbody>\n",
       "    <tr>\n",
       "      <th>Age</th>\n",
       "      <td>3000.0</td>\n",
       "      <td>38.091000</td>\n",
       "      <td>10.463518</td>\n",
       "      <td>8.0</td>\n",
       "      <td>32.0</td>\n",
       "      <td>36.00</td>\n",
       "      <td>42.000</td>\n",
       "      <td>84.00</td>\n",
       "    </tr>\n",
       "    <tr>\n",
       "      <th>Commision</th>\n",
       "      <td>3000.0</td>\n",
       "      <td>14.529203</td>\n",
       "      <td>25.481455</td>\n",
       "      <td>0.0</td>\n",
       "      <td>0.0</td>\n",
       "      <td>4.63</td>\n",
       "      <td>17.235</td>\n",
       "      <td>210.21</td>\n",
       "    </tr>\n",
       "    <tr>\n",
       "      <th>Duration</th>\n",
       "      <td>3000.0</td>\n",
       "      <td>70.001333</td>\n",
       "      <td>134.053313</td>\n",
       "      <td>-1.0</td>\n",
       "      <td>11.0</td>\n",
       "      <td>26.50</td>\n",
       "      <td>63.000</td>\n",
       "      <td>4580.00</td>\n",
       "    </tr>\n",
       "    <tr>\n",
       "      <th>Sales</th>\n",
       "      <td>3000.0</td>\n",
       "      <td>60.249913</td>\n",
       "      <td>70.733954</td>\n",
       "      <td>0.0</td>\n",
       "      <td>20.0</td>\n",
       "      <td>33.00</td>\n",
       "      <td>69.000</td>\n",
       "      <td>539.00</td>\n",
       "    </tr>\n",
       "  </tbody>\n",
       "</table>\n",
       "</div>"
      ],
      "text/plain": [
       "            count       mean         std  min   25%    50%     75%      max\n",
       "Age        3000.0  38.091000   10.463518  8.0  32.0  36.00  42.000    84.00\n",
       "Commision  3000.0  14.529203   25.481455  0.0   0.0   4.63  17.235   210.21\n",
       "Duration   3000.0  70.001333  134.053313 -1.0  11.0  26.50  63.000  4580.00\n",
       "Sales      3000.0  60.249913   70.733954  0.0  20.0  33.00  69.000   539.00"
      ]
     },
     "execution_count": 47,
     "metadata": {},
     "output_type": "execute_result"
    }
   ],
   "source": [
    "data.describe().T"
   ]
  },
  {
   "cell_type": "code",
   "execution_count": 48,
   "metadata": {},
   "outputs": [
    {
     "name": "stdout",
     "output_type": "stream",
     "text": [
      "Agency_Code \n",
      " EPX    1365\n",
      "C2B     924\n",
      "CWT     472\n",
      "JZI     239\n",
      "Name: Agency_Code, dtype: int64\n",
      "\n",
      "\n",
      "Type \n",
      " Travel Agency    1837\n",
      "Airlines         1163\n",
      "Name: Type, dtype: int64\n",
      "\n",
      "\n",
      "Claimed \n",
      " No     2076\n",
      "Yes     924\n",
      "Name: Claimed, dtype: int64\n",
      "\n",
      "\n",
      "Channel \n",
      " Online     2954\n",
      "Offline      46\n",
      "Name: Channel, dtype: int64\n",
      "\n",
      "\n",
      "Product_Name \n",
      " Customised Plan      1136\n",
      "Cancellation Plan     678\n",
      "Bronze Plan           650\n",
      "Silver Plan           427\n",
      "Gold Plan             109\n",
      "Name: Product_Name, dtype: int64\n",
      "\n",
      "\n",
      "Destination \n",
      " ASIA        2465\n",
      "Americas     320\n",
      "EUROPE       215\n",
      "Name: Destination, dtype: int64\n"
     ]
    }
   ],
   "source": [
    "print('Agency_Code \\n',data.Agency_Code.value_counts())\n",
    "print('\\n')\n",
    "print('Type \\n',data.Type.value_counts())\n",
    "print('\\n')\n",
    "print('Claimed \\n',data.Claimed.value_counts())\n",
    "print('\\n')\n",
    "print('Channel \\n',data.Channel.value_counts())\n",
    "print('\\n')\n",
    "print('Product_Name \\n',data.Product_Name.value_counts())\n",
    "print('\\n')\n",
    "print('Destination \\n',data.Destination.value_counts())"
   ]
  },
  {
   "cell_type": "code",
   "execution_count": 49,
   "metadata": {},
   "outputs": [
    {
     "name": "stdout",
     "output_type": "stream",
     "text": [
      "\n",
      "\n",
      "feature: Agency_Code\n",
      "[C2B, EPX, CWT, JZI]\n",
      "Categories (4, object): [C2B, CWT, EPX, JZI]\n",
      "[0 2 1 3]\n",
      "\n",
      "\n",
      "feature: Type\n",
      "[Airlines, Travel Agency]\n",
      "Categories (2, object): [Airlines, Travel Agency]\n",
      "[0 1]\n",
      "\n",
      "\n",
      "feature: Claimed\n",
      "[No, Yes]\n",
      "Categories (2, object): [No, Yes]\n",
      "[0 1]\n",
      "\n",
      "\n",
      "feature: Channel\n",
      "[Online, Offline]\n",
      "Categories (2, object): [Offline, Online]\n",
      "[1 0]\n",
      "\n",
      "\n",
      "feature: Product_Name\n",
      "[Customised Plan, Cancellation Plan, Bronze Plan, Silver Plan, Gold Plan]\n",
      "Categories (5, object): [Bronze Plan, Cancellation Plan, Customised Plan, Gold Plan, Silver Plan]\n",
      "[2 1 0 4 3]\n",
      "\n",
      "\n",
      "feature: Destination\n",
      "[ASIA, Americas, EUROPE]\n",
      "Categories (3, object): [ASIA, Americas, EUROPE]\n",
      "[0 1 2]\n"
     ]
    }
   ],
   "source": [
    "for feature in data.columns: \n",
    "    if data[feature].dtype == 'object': \n",
    "        print('\\n')\n",
    "        print('feature:',feature)\n",
    "        print(pd.Categorical(data[feature].unique()))\n",
    "        print(pd.Categorical(data[feature].unique()).codes)\n",
    "        data[feature] = pd.Categorical(data[feature]).codes"
   ]
  },
  {
   "cell_type": "code",
   "execution_count": 50,
   "metadata": {},
   "outputs": [
    {
     "name": "stdout",
     "output_type": "stream",
     "text": [
      "Agency_Code \n",
      " 2    1365\n",
      "0     924\n",
      "1     472\n",
      "3     239\n",
      "Name: Agency_Code, dtype: int64\n",
      "\n",
      "\n",
      "Type \n",
      " 1    1837\n",
      "0    1163\n",
      "Name: Type, dtype: int64\n",
      "\n",
      "\n",
      "Claimed \n",
      " 0    2076\n",
      "1     924\n",
      "Name: Claimed, dtype: int64\n",
      "\n",
      "\n",
      "Channel \n",
      " 1    2954\n",
      "0      46\n",
      "Name: Channel, dtype: int64\n",
      "\n",
      "\n",
      "Product_Name \n",
      " 2    1136\n",
      "1     678\n",
      "0     650\n",
      "4     427\n",
      "3     109\n",
      "Name: Product_Name, dtype: int64\n",
      "\n",
      "\n",
      "Destination \n",
      " 0    2465\n",
      "1     320\n",
      "2     215\n",
      "Name: Destination, dtype: int64\n"
     ]
    }
   ],
   "source": [
    "print('Agency_Code \\n',data.Agency_Code.value_counts())\n",
    "print('\\n')\n",
    "print('Type \\n',data.Type.value_counts())\n",
    "print('\\n')\n",
    "print('Claimed \\n',data.Claimed.value_counts())\n",
    "print('\\n')\n",
    "print('Channel \\n',data.Channel.value_counts())\n",
    "print('\\n')\n",
    "print('Product_Name \\n',data.Product_Name.value_counts())\n",
    "print('\\n')\n",
    "print('Destination \\n',data.Destination.value_counts())"
   ]
  },
  {
   "cell_type": "code",
   "execution_count": 51,
   "metadata": {},
   "outputs": [
    {
     "name": "stdout",
     "output_type": "stream",
     "text": [
      "<class 'pandas.core.frame.DataFrame'>\n",
      "RangeIndex: 3000 entries, 0 to 2999\n",
      "Data columns (total 10 columns):\n",
      "Age             3000 non-null int64\n",
      "Agency_Code     3000 non-null int8\n",
      "Type            3000 non-null int8\n",
      "Claimed         3000 non-null int8\n",
      "Commision       3000 non-null float64\n",
      "Channel         3000 non-null int8\n",
      "Duration        3000 non-null int64\n",
      "Sales           3000 non-null float64\n",
      "Product_Name    3000 non-null int8\n",
      "Destination     3000 non-null int8\n",
      "dtypes: float64(2), int64(2), int8(6)\n",
      "memory usage: 111.4 KB\n"
     ]
    }
   ],
   "source": [
    "data.info()"
   ]
  },
  {
   "cell_type": "code",
   "execution_count": 52,
   "metadata": {},
   "outputs": [
    {
     "data": {
      "text/plain": [
       "Age             0\n",
       "Agency_Code     0\n",
       "Type            0\n",
       "Claimed         0\n",
       "Commision       0\n",
       "Channel         0\n",
       "Duration        0\n",
       "Sales           0\n",
       "Product_Name    0\n",
       "Destination     0\n",
       "dtype: int64"
      ]
     },
     "execution_count": 52,
     "metadata": {},
     "output_type": "execute_result"
    }
   ],
   "source": [
    "data.isnull().sum()"
   ]
  },
  {
   "cell_type": "code",
   "execution_count": 53,
   "metadata": {},
   "outputs": [
    {
     "data": {
      "text/html": [
       "<div>\n",
       "<style scoped>\n",
       "    .dataframe tbody tr th:only-of-type {\n",
       "        vertical-align: middle;\n",
       "    }\n",
       "\n",
       "    .dataframe tbody tr th {\n",
       "        vertical-align: top;\n",
       "    }\n",
       "\n",
       "    .dataframe thead th {\n",
       "        text-align: right;\n",
       "    }\n",
       "</style>\n",
       "<table border=\"1\" class=\"dataframe\">\n",
       "  <thead>\n",
       "    <tr style=\"text-align: right;\">\n",
       "      <th></th>\n",
       "      <th>count</th>\n",
       "      <th>mean</th>\n",
       "      <th>std</th>\n",
       "      <th>min</th>\n",
       "      <th>25%</th>\n",
       "      <th>50%</th>\n",
       "      <th>75%</th>\n",
       "      <th>max</th>\n",
       "    </tr>\n",
       "  </thead>\n",
       "  <tbody>\n",
       "    <tr>\n",
       "      <th>Age</th>\n",
       "      <td>3000.0</td>\n",
       "      <td>38.091000</td>\n",
       "      <td>10.463518</td>\n",
       "      <td>8.0</td>\n",
       "      <td>32.0</td>\n",
       "      <td>36.00</td>\n",
       "      <td>42.000</td>\n",
       "      <td>84.00</td>\n",
       "    </tr>\n",
       "    <tr>\n",
       "      <th>Agency_Code</th>\n",
       "      <td>3000.0</td>\n",
       "      <td>1.306333</td>\n",
       "      <td>0.994060</td>\n",
       "      <td>0.0</td>\n",
       "      <td>0.0</td>\n",
       "      <td>2.00</td>\n",
       "      <td>2.000</td>\n",
       "      <td>3.00</td>\n",
       "    </tr>\n",
       "    <tr>\n",
       "      <th>Type</th>\n",
       "      <td>3000.0</td>\n",
       "      <td>0.612333</td>\n",
       "      <td>0.487299</td>\n",
       "      <td>0.0</td>\n",
       "      <td>0.0</td>\n",
       "      <td>1.00</td>\n",
       "      <td>1.000</td>\n",
       "      <td>1.00</td>\n",
       "    </tr>\n",
       "    <tr>\n",
       "      <th>Claimed</th>\n",
       "      <td>3000.0</td>\n",
       "      <td>0.308000</td>\n",
       "      <td>0.461744</td>\n",
       "      <td>0.0</td>\n",
       "      <td>0.0</td>\n",
       "      <td>0.00</td>\n",
       "      <td>1.000</td>\n",
       "      <td>1.00</td>\n",
       "    </tr>\n",
       "    <tr>\n",
       "      <th>Commision</th>\n",
       "      <td>3000.0</td>\n",
       "      <td>14.529203</td>\n",
       "      <td>25.481455</td>\n",
       "      <td>0.0</td>\n",
       "      <td>0.0</td>\n",
       "      <td>4.63</td>\n",
       "      <td>17.235</td>\n",
       "      <td>210.21</td>\n",
       "    </tr>\n",
       "    <tr>\n",
       "      <th>Channel</th>\n",
       "      <td>3000.0</td>\n",
       "      <td>0.984667</td>\n",
       "      <td>0.122895</td>\n",
       "      <td>0.0</td>\n",
       "      <td>1.0</td>\n",
       "      <td>1.00</td>\n",
       "      <td>1.000</td>\n",
       "      <td>1.00</td>\n",
       "    </tr>\n",
       "    <tr>\n",
       "      <th>Duration</th>\n",
       "      <td>3000.0</td>\n",
       "      <td>70.001333</td>\n",
       "      <td>134.053313</td>\n",
       "      <td>-1.0</td>\n",
       "      <td>11.0</td>\n",
       "      <td>26.50</td>\n",
       "      <td>63.000</td>\n",
       "      <td>4580.00</td>\n",
       "    </tr>\n",
       "    <tr>\n",
       "      <th>Sales</th>\n",
       "      <td>3000.0</td>\n",
       "      <td>60.249913</td>\n",
       "      <td>70.733954</td>\n",
       "      <td>0.0</td>\n",
       "      <td>20.0</td>\n",
       "      <td>33.00</td>\n",
       "      <td>69.000</td>\n",
       "      <td>539.00</td>\n",
       "    </tr>\n",
       "    <tr>\n",
       "      <th>Product_Name</th>\n",
       "      <td>3000.0</td>\n",
       "      <td>1.661667</td>\n",
       "      <td>1.258726</td>\n",
       "      <td>0.0</td>\n",
       "      <td>1.0</td>\n",
       "      <td>2.00</td>\n",
       "      <td>2.000</td>\n",
       "      <td>4.00</td>\n",
       "    </tr>\n",
       "    <tr>\n",
       "      <th>Destination</th>\n",
       "      <td>3000.0</td>\n",
       "      <td>0.250000</td>\n",
       "      <td>0.575277</td>\n",
       "      <td>0.0</td>\n",
       "      <td>0.0</td>\n",
       "      <td>0.00</td>\n",
       "      <td>0.000</td>\n",
       "      <td>2.00</td>\n",
       "    </tr>\n",
       "  </tbody>\n",
       "</table>\n",
       "</div>"
      ],
      "text/plain": [
       "               count       mean         std  min   25%    50%     75%      max\n",
       "Age           3000.0  38.091000   10.463518  8.0  32.0  36.00  42.000    84.00\n",
       "Agency_Code   3000.0   1.306333    0.994060  0.0   0.0   2.00   2.000     3.00\n",
       "Type          3000.0   0.612333    0.487299  0.0   0.0   1.00   1.000     1.00\n",
       "Claimed       3000.0   0.308000    0.461744  0.0   0.0   0.00   1.000     1.00\n",
       "Commision     3000.0  14.529203   25.481455  0.0   0.0   4.63  17.235   210.21\n",
       "Channel       3000.0   0.984667    0.122895  0.0   1.0   1.00   1.000     1.00\n",
       "Duration      3000.0  70.001333  134.053313 -1.0  11.0  26.50  63.000  4580.00\n",
       "Sales         3000.0  60.249913   70.733954  0.0  20.0  33.00  69.000   539.00\n",
       "Product_Name  3000.0   1.661667    1.258726  0.0   1.0   2.00   2.000     4.00\n",
       "Destination   3000.0   0.250000    0.575277  0.0   0.0   0.00   0.000     2.00"
      ]
     },
     "execution_count": 53,
     "metadata": {},
     "output_type": "execute_result"
    }
   ],
   "source": [
    "data.describe().T"
   ]
  },
  {
   "cell_type": "code",
   "execution_count": 54,
   "metadata": {},
   "outputs": [],
   "source": [
    "#2.2\n",
    "X = data.drop([\"Claimed\"] , axis=1)\n",
    "y = data.pop(\"Claimed\")"
   ]
  },
  {
   "cell_type": "code",
   "execution_count": 55,
   "metadata": {},
   "outputs": [],
   "source": [
    "# splitting data into training and test set for independent attributes\n",
    "\n",
    "X_train_rf, X_test_rf, train_labels_rf, test_labels_rf = train_test_split(X, y, test_size=.30, random_state=1)\n"
   ]
  },
  {
   "cell_type": "code",
   "execution_count": 56,
   "metadata": {},
   "outputs": [],
   "source": [
    "from sklearn.model_selection import GridSearchCV\n",
    "\n",
    "param_grid = {\n",
    "    'max_depth': [7, 10],\n",
    "    'max_features': [3, 4, 6],\n",
    "    'min_samples_leaf': [50, 100, 150],\n",
    "    'min_samples_split': [100, 150, 200],\n",
    "    'n_estimators': [301, 501]\n",
    "}\n",
    "\n",
    "rfcl = RandomForestClassifier()\n",
    "\n",
    "grid_search_rf = GridSearchCV(estimator = rfcl, param_grid = param_grid, cv = 3)"
   ]
  },
  {
   "cell_type": "code",
   "execution_count": 57,
   "metadata": {},
   "outputs": [
    {
     "data": {
      "text/plain": [
       "GridSearchCV(cv=3, error_score='raise-deprecating',\n",
       "             estimator=RandomForestClassifier(bootstrap=True, class_weight=None,\n",
       "                                              criterion='gini', max_depth=None,\n",
       "                                              max_features='auto',\n",
       "                                              max_leaf_nodes=None,\n",
       "                                              min_impurity_decrease=0.0,\n",
       "                                              min_impurity_split=None,\n",
       "                                              min_samples_leaf=1,\n",
       "                                              min_samples_split=2,\n",
       "                                              min_weight_fraction_leaf=0.0,\n",
       "                                              n_estimators='warn', n_jobs=None,\n",
       "                                              oob_score=False,\n",
       "                                              random_state=None, verbose=0,\n",
       "                                              warm_start=False),\n",
       "             iid='warn', n_jobs=None,\n",
       "             param_grid={'max_depth': [7, 10], 'max_features': [3, 4, 6],\n",
       "                         'min_samples_leaf': [50, 100, 150],\n",
       "                         'min_samples_split': [100, 150, 200],\n",
       "                         'n_estimators': [301, 501]},\n",
       "             pre_dispatch='2*n_jobs', refit=True, return_train_score=False,\n",
       "             scoring=None, verbose=0)"
      ]
     },
     "execution_count": 57,
     "metadata": {},
     "output_type": "execute_result"
    }
   ],
   "source": [
    "grid_search_rf.fit(X_train_rf, train_labels_rf)"
   ]
  },
  {
   "cell_type": "code",
   "execution_count": 58,
   "metadata": {},
   "outputs": [
    {
     "data": {
      "text/plain": [
       "{'max_depth': 7,\n",
       " 'max_features': 3,\n",
       " 'min_samples_leaf': 50,\n",
       " 'min_samples_split': 150,\n",
       " 'n_estimators': 301}"
      ]
     },
     "execution_count": 58,
     "metadata": {},
     "output_type": "execute_result"
    }
   ],
   "source": [
    "grid_search_rf.best_params_"
   ]
  },
  {
   "cell_type": "code",
   "execution_count": 59,
   "metadata": {},
   "outputs": [],
   "source": [
    "best_grid_rf = grid_search_rf.best_estimator_"
   ]
  },
  {
   "cell_type": "code",
   "execution_count": 60,
   "metadata": {},
   "outputs": [
    {
     "data": {
      "text/plain": [
       "RandomForestClassifier(bootstrap=True, class_weight=None, criterion='gini',\n",
       "                       max_depth=7, max_features=3, max_leaf_nodes=None,\n",
       "                       min_impurity_decrease=0.0, min_impurity_split=None,\n",
       "                       min_samples_leaf=50, min_samples_split=150,\n",
       "                       min_weight_fraction_leaf=0.0, n_estimators=301,\n",
       "                       n_jobs=None, oob_score=False, random_state=None,\n",
       "                       verbose=0, warm_start=False)"
      ]
     },
     "execution_count": 60,
     "metadata": {},
     "output_type": "execute_result"
    }
   ],
   "source": [
    "best_grid_rf"
   ]
  },
  {
   "cell_type": "code",
   "execution_count": 61,
   "metadata": {},
   "outputs": [],
   "source": [
    "ytrain_predict_rf = best_grid_rf.predict(X_train_rf)\n",
    "ytest_predict_rf = best_grid_rf.predict(X_test_rf)"
   ]
  },
  {
   "cell_type": "code",
   "execution_count": 116,
   "metadata": {},
   "outputs": [
    {
     "data": {
      "text/plain": [
       "array([0, 0, 1, ..., 0, 0, 1], dtype=int8)"
      ]
     },
     "execution_count": 116,
     "metadata": {},
     "output_type": "execute_result"
    }
   ],
   "source": [
    "ytrain_predict_rf"
   ]
  },
  {
   "cell_type": "code",
   "execution_count": 117,
   "metadata": {},
   "outputs": [
    {
     "data": {
      "text/plain": [
       "array([0, 0, 0, 1, 0, 0, 0, 0, 0, 0, 0, 0, 0, 1, 1, 0, 0, 0, 0, 0, 1, 0,\n",
       "       1, 0, 0, 0, 1, 0, 0, 0, 0, 0, 1, 0, 1, 0, 0, 0, 0, 1, 0, 0, 0, 0,\n",
       "       0, 0, 0, 0, 0, 0, 0, 1, 0, 0, 0, 1, 0, 0, 0, 0, 0, 0, 0, 0, 0, 1,\n",
       "       0, 0, 0, 0, 0, 0, 1, 0, 0, 0, 0, 0, 1, 0, 0, 0, 0, 0, 0, 0, 0, 1,\n",
       "       0, 0, 0, 0, 0, 0, 1, 0, 0, 0, 0, 0, 0, 0, 0, 0, 0, 0, 0, 0, 0, 0,\n",
       "       0, 0, 0, 0, 0, 0, 0, 0, 0, 0, 0, 0, 1, 0, 0, 0, 0, 0, 0, 1, 0, 0,\n",
       "       0, 0, 1, 0, 0, 1, 0, 0, 0, 0, 0, 0, 0, 0, 1, 0, 1, 0, 0, 0, 0, 1,\n",
       "       0, 0, 0, 1, 1, 0, 0, 0, 1, 0, 0, 0, 0, 1, 0, 0, 0, 0, 1, 0, 0, 0,\n",
       "       1, 1, 0, 0, 0, 0, 0, 0, 0, 1, 0, 0, 0, 0, 0, 0, 0, 1, 0, 1, 0, 0,\n",
       "       0, 0, 1, 0, 0, 0, 0, 0, 0, 1, 0, 0, 0, 0, 0, 0, 0, 0, 0, 0, 1, 0,\n",
       "       0, 0, 0, 1, 1, 0, 0, 0, 0, 0, 0, 0, 0, 0, 0, 0, 0, 0, 0, 0, 0, 0,\n",
       "       0, 1, 0, 1, 1, 0, 0, 0, 0, 0, 1, 0, 0, 0, 0, 0, 0, 0, 0, 0, 1, 0,\n",
       "       0, 1, 0, 0, 0, 0, 0, 0, 0, 0, 0, 0, 1, 0, 0, 0, 0, 0, 0, 1, 0, 0,\n",
       "       1, 0, 1, 0, 1, 0, 1, 0, 0, 0, 0, 1, 0, 0, 0, 0, 1, 0, 1, 1, 0, 0,\n",
       "       0, 0, 0, 0, 1, 0, 0, 0, 0, 0, 0, 0, 0, 0, 1, 0, 0, 0, 0, 0, 0, 0,\n",
       "       0, 0, 0, 0, 1, 0, 0, 0, 0, 0, 0, 1, 1, 0, 0, 1, 0, 0, 0, 1, 0, 0,\n",
       "       0, 1, 0, 0, 0, 0, 1, 0, 0, 0, 0, 0, 0, 0, 1, 0, 0, 0, 0, 0, 0, 0,\n",
       "       0, 0, 0, 0, 0, 0, 0, 1, 0, 1, 0, 0, 0, 0, 0, 0, 0, 0, 0, 0, 0, 0,\n",
       "       1, 0, 1, 1, 0, 0, 0, 0, 0, 0, 0, 0, 1, 0, 0, 0, 0, 1, 0, 0, 0, 0,\n",
       "       0, 0, 0, 0, 0, 0, 0, 1, 0, 0, 0, 0, 0, 0, 0, 0, 0, 0, 0, 0, 0, 0,\n",
       "       0, 0, 0, 0, 1, 0, 0, 0, 0, 0, 0, 1, 0, 0, 0, 1, 0, 0, 0, 0, 0, 1,\n",
       "       0, 0, 0, 0, 0, 0, 0, 0, 0, 0, 0, 0, 0, 0, 0, 1, 0, 0, 0, 1, 0, 0,\n",
       "       0, 0, 0, 0, 1, 0, 1, 1, 1, 0, 0, 0, 0, 0, 0, 0, 0, 0, 1, 0, 0, 1,\n",
       "       0, 0, 0, 0, 0, 1, 0, 0, 0, 0, 1, 0, 0, 1, 0, 1, 0, 0, 0, 0, 0, 0,\n",
       "       0, 0, 1, 0, 1, 0, 0, 0, 0, 0, 0, 0, 1, 0, 0, 0, 0, 0, 0, 0, 0, 0,\n",
       "       1, 1, 0, 0, 0, 0, 0, 0, 0, 1, 0, 1, 0, 0, 0, 0, 0, 0, 1, 0, 0, 0,\n",
       "       0, 0, 0, 0, 0, 0, 0, 0, 1, 0, 0, 0, 1, 1, 0, 0, 0, 1, 0, 1, 0, 0,\n",
       "       0, 0, 0, 0, 0, 1, 1, 0, 0, 1, 0, 0, 1, 0, 0, 0, 0, 0, 0, 0, 0, 0,\n",
       "       0, 1, 0, 0, 0, 1, 0, 1, 1, 0, 1, 0, 0, 0, 0, 0, 0, 0, 0, 0, 0, 0,\n",
       "       1, 0, 0, 0, 0, 1, 1, 0, 0, 0, 0, 0, 0, 0, 0, 0, 0, 0, 0, 0, 0, 0,\n",
       "       1, 0, 0, 0, 1, 0, 0, 0, 0, 0, 0, 0, 0, 0, 0, 0, 0, 0, 0, 0, 1, 1,\n",
       "       0, 0, 1, 0, 0, 0, 1, 1, 1, 1, 0, 0, 0, 0, 0, 0, 0, 0, 0, 0, 0, 0,\n",
       "       0, 1, 1, 0, 0, 0, 1, 0, 0, 0, 1, 0, 0, 1, 1, 0, 0, 0, 0, 0, 1, 0,\n",
       "       0, 0, 0, 1, 0, 0, 0, 0, 0, 0, 0, 0, 0, 0, 1, 1, 1, 0, 0, 0, 0, 0,\n",
       "       0, 1, 0, 1, 0, 0, 0, 0, 1, 0, 0, 1, 0, 0, 0, 0, 0, 0, 0, 0, 0, 0,\n",
       "       0, 0, 1, 0, 0, 0, 0, 1, 0, 0, 1, 1, 0, 0, 0, 0, 0, 0, 0, 0, 0, 0,\n",
       "       1, 0, 0, 1, 0, 0, 0, 0, 0, 1, 1, 0, 0, 0, 0, 0, 0, 0, 0, 0, 0, 0,\n",
       "       1, 1, 0, 0, 0, 0, 1, 0, 1, 0, 0, 0, 1, 1, 0, 0, 0, 0, 0, 1, 0, 0,\n",
       "       0, 1, 0, 0, 0, 0, 0, 0, 1, 0, 0, 0, 0, 0, 1, 0, 1, 1, 0, 0, 1, 0,\n",
       "       0, 0, 1, 0, 1, 0, 0, 1, 0, 0, 0, 0, 0, 0, 1, 0, 0, 0, 0, 0, 0, 1,\n",
       "       0, 0, 0, 0, 0, 0, 1, 0, 0, 0, 0, 0, 0, 1, 0, 0, 0, 0, 0, 0],\n",
       "      dtype=int8)"
      ]
     },
     "execution_count": 117,
     "metadata": {},
     "output_type": "execute_result"
    }
   ],
   "source": [
    "ytest_predict_rf"
   ]
  },
  {
   "cell_type": "code",
   "execution_count": 62,
   "metadata": {},
   "outputs": [],
   "source": [
    "from sklearn.metrics import confusion_matrix,classification_report"
   ]
  },
  {
   "cell_type": "code",
   "execution_count": 63,
   "metadata": {},
   "outputs": [
    {
     "name": "stdout",
     "output_type": "stream",
     "text": [
      "              precision    recall  f1-score   support\n",
      "\n",
      "           0       0.81      0.91      0.86      1471\n",
      "           1       0.70      0.51      0.59       629\n",
      "\n",
      "    accuracy                           0.79      2100\n",
      "   macro avg       0.76      0.71      0.72      2100\n",
      "weighted avg       0.78      0.79      0.78      2100\n",
      "\n"
     ]
    }
   ],
   "source": [
    "print(classification_report(train_labels_rf,ytrain_predict_rf))"
   ]
  },
  {
   "cell_type": "code",
   "execution_count": 64,
   "metadata": {},
   "outputs": [
    {
     "name": "stdout",
     "output_type": "stream",
     "text": [
      "              precision    recall  f1-score   support\n",
      "\n",
      "           0       0.76      0.92      0.83       605\n",
      "           1       0.72      0.40      0.52       295\n",
      "\n",
      "    accuracy                           0.75       900\n",
      "   macro avg       0.74      0.66      0.68       900\n",
      "weighted avg       0.75      0.75      0.73       900\n",
      "\n"
     ]
    }
   ],
   "source": [
    "print(classification_report(test_labels_rf,ytest_predict_rf))"
   ]
  },
  {
   "cell_type": "code",
   "execution_count": 65,
   "metadata": {},
   "outputs": [],
   "source": [
    "X_train_dt, X_test_dt, train_labels_dt, test_labels_dt = train_test_split(X, y, test_size=.30, random_state=1)"
   ]
  },
  {
   "cell_type": "code",
   "execution_count": 66,
   "metadata": {},
   "outputs": [],
   "source": [
    "dt_model = DecisionTreeClassifier(criterion = 'gini' )"
   ]
  },
  {
   "cell_type": "code",
   "execution_count": 67,
   "metadata": {},
   "outputs": [
    {
     "data": {
      "text/plain": [
       "DecisionTreeClassifier(class_weight=None, criterion='gini', max_depth=None,\n",
       "                       max_features=None, max_leaf_nodes=None,\n",
       "                       min_impurity_decrease=0.0, min_impurity_split=None,\n",
       "                       min_samples_leaf=1, min_samples_split=2,\n",
       "                       min_weight_fraction_leaf=0.0, presort=False,\n",
       "                       random_state=None, splitter='best')"
      ]
     },
     "execution_count": 67,
     "metadata": {},
     "output_type": "execute_result"
    }
   ],
   "source": [
    "dt_model.fit(X_train_dt, train_labels_dt)"
   ]
  },
  {
   "cell_type": "code",
   "execution_count": 68,
   "metadata": {},
   "outputs": [],
   "source": [
    "from sklearn import tree\n",
    "\n",
    "train_char_label = ['No', 'Yes']\n",
    "Insurance_File = open('d:\\Insurance_File','w')\n",
    "dot_data = tree.export_graphviz(dt_model, out_file=Insurance_File, feature_names = list(X_train_dt), class_names = list(train_char_label))\n",
    "\n",
    "Insurance_File.close()"
   ]
  },
  {
   "cell_type": "code",
   "execution_count": 69,
   "metadata": {},
   "outputs": [
    {
     "name": "stdout",
     "output_type": "stream",
     "text": [
      "                   Imp\n",
      "Age           0.176348\n",
      "Agency_Code   0.194797\n",
      "Type          0.002329\n",
      "Commision     0.093175\n",
      "Channel       0.007262\n",
      "Duration      0.263249\n",
      "Sales         0.199095\n",
      "Product_Name  0.041322\n",
      "Destination   0.022423\n"
     ]
    }
   ],
   "source": [
    "# importance of features in the tree building ( The importance of a feature is computed as the \n",
    "#(normalized) total reduction of the criterion brought by that feature. It is also known as the Gini importance )\n",
    "\n",
    "print (pd.DataFrame(dt_model.feature_importances_, columns = [\"Imp\"], index = X_train_dt.columns))"
   ]
  },
  {
   "cell_type": "code",
   "execution_count": 70,
   "metadata": {},
   "outputs": [],
   "source": [
    "y_predict_dt = dt_model.predict(X_test_dt)"
   ]
  },
  {
   "cell_type": "code",
   "execution_count": 71,
   "metadata": {},
   "outputs": [
    {
     "data": {
      "text/plain": [
       "DecisionTreeClassifier(class_weight=None, criterion='gini', max_depth=13,\n",
       "                       max_features=None, max_leaf_nodes=None,\n",
       "                       min_impurity_decrease=0.0, min_impurity_split=None,\n",
       "                       min_samples_leaf=100, min_samples_split=200,\n",
       "                       min_weight_fraction_leaf=0.0, presort=False,\n",
       "                       random_state=None, splitter='best')"
      ]
     },
     "execution_count": 71,
     "metadata": {},
     "output_type": "execute_result"
    }
   ],
   "source": [
    "reg_dt_model = DecisionTreeClassifier(criterion = 'gini', max_depth = 13,min_samples_leaf=100,min_samples_split=200)\n",
    "reg_dt_model.fit(X_train_dt, train_labels_dt)"
   ]
  },
  {
   "cell_type": "code",
   "execution_count": 72,
   "metadata": {},
   "outputs": [],
   "source": [
    "Insurance_regularized = open('d:\\Insurance_regularized.dot','w')\n",
    "dot_data = tree.export_graphviz(reg_dt_model, out_file= Insurance_regularized , feature_names = list(X_train_dt), class_names = list(train_char_label))\n",
    "\n",
    "Insurance_regularized.close()\n",
    "dot_data"
   ]
  },
  {
   "cell_type": "code",
   "execution_count": 73,
   "metadata": {},
   "outputs": [
    {
     "name": "stdout",
     "output_type": "stream",
     "text": [
      "                   Imp\n",
      "Duration      0.263249\n",
      "Sales         0.199095\n",
      "Agency_Code   0.194797\n",
      "Age           0.176348\n",
      "Commision     0.093175\n",
      "Product_Name  0.041322\n",
      "Destination   0.022423\n",
      "Channel       0.007262\n",
      "Type          0.002329\n"
     ]
    }
   ],
   "source": [
    "print (pd.DataFrame(dt_model.feature_importances_, columns = [\"Imp\"], index = X_train_dt.columns).sort_values('Imp',ascending=False))"
   ]
  },
  {
   "cell_type": "code",
   "execution_count": 74,
   "metadata": {},
   "outputs": [],
   "source": [
    "ytrain_predict_dt = reg_dt_model.predict(X_train_dt)\n",
    "ytest_predict_dt = reg_dt_model.predict(X_test_dt)"
   ]
  },
  {
   "cell_type": "code",
   "execution_count": 75,
   "metadata": {},
   "outputs": [
    {
     "name": "stdout",
     "output_type": "stream",
     "text": [
      "ytrain_predict_dt (2100,)\n",
      "ytest_predict_dt (900,)\n"
     ]
    }
   ],
   "source": [
    "print('ytrain_predict_dt',ytrain_predict_dt.shape)\n",
    "print('ytest_predict_dt',ytest_predict_dt.shape)"
   ]
  },
  {
   "cell_type": "code",
   "execution_count": 76,
   "metadata": {},
   "outputs": [
    {
     "data": {
      "text/plain": [
       "array([0, 0, 1, ..., 0, 0, 1], dtype=int8)"
      ]
     },
     "execution_count": 76,
     "metadata": {},
     "output_type": "execute_result"
    }
   ],
   "source": [
    "ytrain_predict_dt"
   ]
  },
  {
   "cell_type": "code",
   "execution_count": 77,
   "metadata": {},
   "outputs": [
    {
     "data": {
      "text/plain": [
       "array([0, 1, 0, 1, 0, 0, 0, 0, 0, 1, 0, 0, 1, 1, 1, 0, 0, 0, 1, 0, 0, 0,\n",
       "       1, 0, 0, 0, 1, 0, 0, 0, 0, 0, 1, 0, 1, 0, 0, 0, 0, 1, 0, 0, 0, 0,\n",
       "       0, 0, 0, 0, 0, 0, 0, 1, 0, 0, 0, 1, 0, 0, 1, 0, 0, 0, 0, 0, 0, 1,\n",
       "       0, 1, 0, 0, 0, 0, 0, 0, 0, 0, 0, 0, 1, 0, 0, 0, 0, 0, 0, 0, 0, 1,\n",
       "       0, 0, 0, 0, 0, 0, 1, 0, 0, 0, 0, 0, 0, 0, 0, 0, 0, 0, 0, 0, 0, 0,\n",
       "       0, 0, 0, 0, 0, 0, 0, 0, 0, 0, 0, 0, 1, 0, 0, 0, 0, 0, 0, 1, 0, 0,\n",
       "       0, 0, 1, 0, 0, 1, 0, 0, 0, 0, 0, 0, 1, 0, 1, 0, 1, 0, 0, 0, 0, 1,\n",
       "       0, 0, 0, 0, 1, 0, 0, 0, 1, 0, 0, 0, 0, 1, 0, 0, 0, 0, 0, 0, 0, 0,\n",
       "       1, 1, 0, 0, 0, 0, 0, 0, 0, 1, 0, 0, 0, 0, 0, 0, 0, 1, 0, 1, 1, 0,\n",
       "       0, 0, 1, 0, 0, 0, 1, 0, 1, 1, 0, 0, 0, 0, 0, 0, 0, 0, 0, 0, 1, 0,\n",
       "       0, 0, 0, 1, 0, 0, 0, 0, 0, 0, 0, 0, 0, 1, 0, 0, 0, 0, 1, 0, 0, 0,\n",
       "       0, 0, 0, 1, 1, 0, 0, 0, 0, 0, 1, 0, 1, 0, 0, 0, 1, 0, 0, 0, 1, 0,\n",
       "       0, 1, 0, 0, 0, 0, 1, 0, 0, 0, 0, 0, 0, 0, 0, 0, 0, 0, 0, 1, 0, 0,\n",
       "       1, 0, 1, 0, 1, 0, 1, 0, 0, 0, 0, 1, 0, 0, 0, 0, 0, 0, 1, 1, 0, 0,\n",
       "       0, 0, 0, 0, 1, 0, 0, 0, 0, 1, 0, 0, 0, 0, 0, 0, 0, 1, 0, 1, 0, 0,\n",
       "       0, 0, 0, 0, 1, 0, 0, 0, 0, 0, 0, 0, 1, 0, 0, 0, 0, 1, 0, 1, 0, 0,\n",
       "       0, 0, 0, 0, 1, 0, 0, 0, 0, 0, 0, 0, 0, 1, 1, 0, 1, 0, 0, 0, 0, 0,\n",
       "       0, 0, 0, 0, 0, 0, 0, 0, 0, 1, 0, 0, 0, 0, 0, 0, 0, 0, 1, 0, 0, 0,\n",
       "       1, 0, 1, 1, 0, 0, 0, 0, 0, 0, 0, 0, 1, 0, 0, 0, 0, 0, 0, 0, 0, 0,\n",
       "       0, 0, 0, 0, 1, 0, 1, 1, 0, 1, 0, 0, 0, 0, 0, 0, 0, 0, 0, 0, 0, 0,\n",
       "       0, 0, 0, 0, 1, 0, 0, 0, 0, 0, 0, 1, 0, 0, 0, 1, 0, 0, 0, 0, 1, 1,\n",
       "       0, 0, 0, 0, 0, 0, 0, 0, 0, 0, 0, 1, 1, 0, 0, 1, 0, 0, 0, 1, 0, 0,\n",
       "       0, 0, 0, 0, 1, 0, 0, 0, 1, 0, 0, 0, 0, 0, 0, 0, 0, 1, 1, 0, 0, 1,\n",
       "       0, 0, 1, 0, 0, 1, 0, 0, 0, 0, 1, 0, 0, 0, 0, 0, 0, 0, 0, 0, 0, 0,\n",
       "       0, 0, 0, 0, 0, 0, 0, 0, 0, 0, 0, 0, 1, 0, 0, 0, 0, 0, 0, 0, 0, 0,\n",
       "       0, 1, 0, 0, 1, 0, 0, 0, 0, 1, 1, 1, 0, 0, 0, 0, 0, 0, 1, 0, 0, 0,\n",
       "       0, 0, 0, 0, 0, 0, 0, 0, 0, 0, 0, 0, 1, 1, 0, 0, 0, 1, 0, 1, 0, 0,\n",
       "       0, 0, 0, 0, 0, 1, 1, 0, 0, 1, 0, 0, 1, 0, 0, 0, 0, 0, 0, 0, 0, 0,\n",
       "       0, 1, 0, 0, 0, 1, 0, 0, 1, 0, 1, 0, 0, 0, 0, 0, 0, 0, 0, 0, 0, 0,\n",
       "       1, 0, 1, 1, 0, 1, 1, 1, 0, 0, 1, 0, 0, 0, 0, 0, 0, 0, 0, 0, 0, 0,\n",
       "       0, 0, 0, 0, 1, 0, 0, 0, 0, 0, 0, 0, 0, 0, 0, 0, 0, 0, 0, 0, 1, 1,\n",
       "       0, 0, 1, 0, 0, 0, 1, 1, 1, 0, 0, 0, 0, 0, 0, 0, 1, 0, 0, 0, 0, 0,\n",
       "       0, 1, 0, 1, 0, 0, 1, 0, 0, 0, 0, 0, 0, 1, 1, 0, 0, 0, 0, 0, 1, 0,\n",
       "       0, 1, 0, 1, 0, 0, 0, 0, 0, 0, 0, 0, 0, 0, 1, 1, 1, 0, 1, 0, 0, 0,\n",
       "       0, 0, 0, 0, 0, 0, 0, 0, 1, 0, 0, 1, 0, 0, 1, 0, 0, 0, 1, 0, 0, 0,\n",
       "       0, 0, 1, 0, 0, 0, 0, 0, 0, 0, 1, 1, 0, 0, 0, 0, 0, 0, 0, 0, 0, 0,\n",
       "       1, 0, 0, 1, 0, 0, 0, 0, 0, 1, 1, 0, 0, 0, 0, 0, 0, 0, 0, 0, 1, 0,\n",
       "       1, 0, 0, 0, 0, 0, 1, 0, 1, 0, 0, 0, 1, 0, 0, 0, 0, 0, 0, 1, 0, 0,\n",
       "       0, 0, 0, 0, 0, 0, 0, 1, 0, 0, 0, 0, 0, 0, 0, 0, 1, 1, 0, 0, 1, 0,\n",
       "       0, 0, 1, 0, 0, 0, 0, 0, 0, 0, 0, 0, 0, 0, 1, 0, 0, 0, 0, 0, 0, 1,\n",
       "       0, 0, 0, 1, 0, 0, 1, 0, 0, 0, 0, 0, 0, 1, 0, 0, 0, 1, 0, 0],\n",
       "      dtype=int8)"
      ]
     },
     "execution_count": 77,
     "metadata": {},
     "output_type": "execute_result"
    }
   ],
   "source": [
    "ytest_predict_dt"
   ]
  },
  {
   "cell_type": "code",
   "execution_count": 78,
   "metadata": {},
   "outputs": [
    {
     "data": {
      "text/plain": [
       "array([[0.96923077, 0.03076923],\n",
       "       [0.68047337, 0.31952663],\n",
       "       [0.2       , 0.8       ],\n",
       "       ...,\n",
       "       [0.68047337, 0.31952663],\n",
       "       [0.9453125 , 0.0546875 ],\n",
       "       [0.44047619, 0.55952381]])"
      ]
     },
     "execution_count": 78,
     "metadata": {},
     "output_type": "execute_result"
    }
   ],
   "source": [
    "ytrain_predict_prob_dt=reg_dt_model.predict_proba(X_train_dt)\n",
    "ytrain_predict_prob_dt"
   ]
  },
  {
   "cell_type": "code",
   "execution_count": 79,
   "metadata": {},
   "outputs": [
    {
     "data": {
      "text/plain": [
       "array([[0.9223301 , 0.0776699 ],\n",
       "       [0.44047619, 0.55952381],\n",
       "       [0.74      , 0.26      ],\n",
       "       ...,\n",
       "       [0.44047619, 0.55952381],\n",
       "       [0.91954023, 0.08045977],\n",
       "       [0.9453125 , 0.0546875 ]])"
      ]
     },
     "execution_count": 79,
     "metadata": {},
     "output_type": "execute_result"
    }
   ],
   "source": [
    "ytest_predict_prob_dt=reg_dt_model.predict_proba(X_test_dt)\n",
    "ytest_predict_prob_dt"
   ]
  },
  {
   "cell_type": "code",
   "execution_count": 80,
   "metadata": {},
   "outputs": [
    {
     "data": {
      "text/html": [
       "<div>\n",
       "<style scoped>\n",
       "    .dataframe tbody tr th:only-of-type {\n",
       "        vertical-align: middle;\n",
       "    }\n",
       "\n",
       "    .dataframe tbody tr th {\n",
       "        vertical-align: top;\n",
       "    }\n",
       "\n",
       "    .dataframe thead th {\n",
       "        text-align: right;\n",
       "    }\n",
       "</style>\n",
       "<table border=\"1\" class=\"dataframe\">\n",
       "  <thead>\n",
       "    <tr style=\"text-align: right;\">\n",
       "      <th></th>\n",
       "      <th>0</th>\n",
       "      <th>1</th>\n",
       "    </tr>\n",
       "  </thead>\n",
       "  <tbody>\n",
       "    <tr>\n",
       "      <th>0</th>\n",
       "      <td>0.969231</td>\n",
       "      <td>0.030769</td>\n",
       "    </tr>\n",
       "    <tr>\n",
       "      <th>1</th>\n",
       "      <td>0.680473</td>\n",
       "      <td>0.319527</td>\n",
       "    </tr>\n",
       "    <tr>\n",
       "      <th>2</th>\n",
       "      <td>0.200000</td>\n",
       "      <td>0.800000</td>\n",
       "    </tr>\n",
       "    <tr>\n",
       "      <th>3</th>\n",
       "      <td>0.532110</td>\n",
       "      <td>0.467890</td>\n",
       "    </tr>\n",
       "    <tr>\n",
       "      <th>4</th>\n",
       "      <td>0.680473</td>\n",
       "      <td>0.319527</td>\n",
       "    </tr>\n",
       "  </tbody>\n",
       "</table>\n",
       "</div>"
      ],
      "text/plain": [
       "          0         1\n",
       "0  0.969231  0.030769\n",
       "1  0.680473  0.319527\n",
       "2  0.200000  0.800000\n",
       "3  0.532110  0.467890\n",
       "4  0.680473  0.319527"
      ]
     },
     "execution_count": 80,
     "metadata": {},
     "output_type": "execute_result"
    }
   ],
   "source": [
    " pd.DataFrame(ytrain_predict_prob_dt).head()"
   ]
  },
  {
   "cell_type": "code",
   "execution_count": 81,
   "metadata": {},
   "outputs": [
    {
     "data": {
      "text/html": [
       "<div>\n",
       "<style scoped>\n",
       "    .dataframe tbody tr th:only-of-type {\n",
       "        vertical-align: middle;\n",
       "    }\n",
       "\n",
       "    .dataframe tbody tr th {\n",
       "        vertical-align: top;\n",
       "    }\n",
       "\n",
       "    .dataframe thead th {\n",
       "        text-align: right;\n",
       "    }\n",
       "</style>\n",
       "<table border=\"1\" class=\"dataframe\">\n",
       "  <thead>\n",
       "    <tr style=\"text-align: right;\">\n",
       "      <th></th>\n",
       "      <th>0</th>\n",
       "      <th>1</th>\n",
       "    </tr>\n",
       "  </thead>\n",
       "  <tbody>\n",
       "    <tr>\n",
       "      <th>0</th>\n",
       "      <td>0.922330</td>\n",
       "      <td>0.077670</td>\n",
       "    </tr>\n",
       "    <tr>\n",
       "      <th>1</th>\n",
       "      <td>0.440476</td>\n",
       "      <td>0.559524</td>\n",
       "    </tr>\n",
       "    <tr>\n",
       "      <th>2</th>\n",
       "      <td>0.740000</td>\n",
       "      <td>0.260000</td>\n",
       "    </tr>\n",
       "    <tr>\n",
       "      <th>3</th>\n",
       "      <td>0.300885</td>\n",
       "      <td>0.699115</td>\n",
       "    </tr>\n",
       "    <tr>\n",
       "      <th>4</th>\n",
       "      <td>0.919540</td>\n",
       "      <td>0.080460</td>\n",
       "    </tr>\n",
       "  </tbody>\n",
       "</table>\n",
       "</div>"
      ],
      "text/plain": [
       "          0         1\n",
       "0  0.922330  0.077670\n",
       "1  0.440476  0.559524\n",
       "2  0.740000  0.260000\n",
       "3  0.300885  0.699115\n",
       "4  0.919540  0.080460"
      ]
     },
     "execution_count": 81,
     "metadata": {},
     "output_type": "execute_result"
    }
   ],
   "source": [
    " pd.DataFrame(ytest_predict_prob_dt).head()"
   ]
  },
  {
   "cell_type": "code",
   "execution_count": 82,
   "metadata": {},
   "outputs": [
    {
     "name": "stdout",
     "output_type": "stream",
     "text": [
      "              precision    recall  f1-score   support\n",
      "\n",
      "           0       0.81      0.90      0.85      1471\n",
      "           1       0.69      0.50      0.58       629\n",
      "\n",
      "    accuracy                           0.78      2100\n",
      "   macro avg       0.75      0.70      0.72      2100\n",
      "weighted avg       0.77      0.78      0.77      2100\n",
      "\n"
     ]
    }
   ],
   "source": [
    "print(classification_report(train_labels_dt, ytrain_predict_dt))"
   ]
  },
  {
   "cell_type": "code",
   "execution_count": 83,
   "metadata": {},
   "outputs": [
    {
     "name": "stdout",
     "output_type": "stream",
     "text": [
      "              precision    recall  f1-score   support\n",
      "\n",
      "           0       0.77      0.92      0.84       605\n",
      "           1       0.72      0.42      0.53       295\n",
      "\n",
      "    accuracy                           0.76       900\n",
      "   macro avg       0.74      0.67      0.68       900\n",
      "weighted avg       0.75      0.76      0.74       900\n",
      "\n"
     ]
    }
   ],
   "source": [
    "print(classification_report(test_labels_dt, ytest_predict_dt))"
   ]
  },
  {
   "cell_type": "code",
   "execution_count": 84,
   "metadata": {},
   "outputs": [
    {
     "data": {
      "text/plain": [
       "0.7828571428571428"
      ]
     },
     "execution_count": 84,
     "metadata": {},
     "output_type": "execute_result"
    }
   ],
   "source": [
    "reg_dt_model.score(X_train_dt,train_labels_dt) "
   ]
  },
  {
   "cell_type": "code",
   "execution_count": 85,
   "metadata": {},
   "outputs": [
    {
     "data": {
      "text/plain": [
       "0.7566666666666667"
      ]
     },
     "execution_count": 85,
     "metadata": {},
     "output_type": "execute_result"
    }
   ],
   "source": [
    "reg_dt_model.score(X_test_dt,test_labels_dt)"
   ]
  },
  {
   "cell_type": "code",
   "execution_count": 86,
   "metadata": {},
   "outputs": [],
   "source": [
    "X_train_an, X_test_an, train_labels_an, test_labels_an = train_test_split(X, y, test_size=.30, random_state=1)"
   ]
  },
  {
   "cell_type": "code",
   "execution_count": 87,
   "metadata": {},
   "outputs": [],
   "source": [
    "from sklearn.preprocessing import StandardScaler \n",
    "sc = StandardScaler() \n",
    "X_train_an = sc.fit_transform(X_train_an) \n",
    "X_test_an = sc.transform (X_test_an)"
   ]
  },
  {
   "cell_type": "code",
   "execution_count": 88,
   "metadata": {},
   "outputs": [],
   "source": [
    "param_grid_an = {\n",
    "    'hidden_layer_sizes': [(100,100,100)],\n",
    "    'activation': ['logistic', 'relu'],\n",
    "    'solver': ['sgd', 'adam'],\n",
    "    'tol': [0.1,0.01],\n",
    "    'max_iter' : [10000]\n",
    "}\n",
    "\n",
    "rfc2 = MLPClassifier()\n",
    "\n",
    "grid_search_an = GridSearchCV(estimator = rfc2, param_grid= param_grid_an, cv = 3)"
   ]
  },
  {
   "cell_type": "code",
   "execution_count": 89,
   "metadata": {},
   "outputs": [
    {
     "data": {
      "text/plain": [
       "GridSearchCV(cv=3, error_score='raise-deprecating',\n",
       "             estimator=MLPClassifier(activation='relu', alpha=0.0001,\n",
       "                                     batch_size='auto', beta_1=0.9,\n",
       "                                     beta_2=0.999, early_stopping=False,\n",
       "                                     epsilon=1e-08, hidden_layer_sizes=(100,),\n",
       "                                     learning_rate='constant',\n",
       "                                     learning_rate_init=0.001, max_iter=200,\n",
       "                                     momentum=0.9, n_iter_no_change=10,\n",
       "                                     nesterovs_momentum=True, power_t=0.5,\n",
       "                                     random_state=None, shuffle=True,\n",
       "                                     solver='adam', tol=0.0001,\n",
       "                                     validation_fraction=0.1, verbose=False,\n",
       "                                     warm_start=False),\n",
       "             iid='warn', n_jobs=None,\n",
       "             param_grid={'activation': ['logistic', 'relu'],\n",
       "                         'hidden_layer_sizes': [(100, 100, 100)],\n",
       "                         'max_iter': [10000], 'solver': ['sgd', 'adam'],\n",
       "                         'tol': [0.1, 0.01]},\n",
       "             pre_dispatch='2*n_jobs', refit=True, return_train_score=False,\n",
       "             scoring=None, verbose=0)"
      ]
     },
     "execution_count": 89,
     "metadata": {},
     "output_type": "execute_result"
    }
   ],
   "source": [
    "grid_search_an.fit(X_train_an, train_labels_an)"
   ]
  },
  {
   "cell_type": "code",
   "execution_count": 90,
   "metadata": {},
   "outputs": [
    {
     "data": {
      "text/plain": [
       "{'activation': 'relu',\n",
       " 'hidden_layer_sizes': (100, 100, 100),\n",
       " 'max_iter': 10000,\n",
       " 'solver': 'adam',\n",
       " 'tol': 0.01}"
      ]
     },
     "execution_count": 90,
     "metadata": {},
     "output_type": "execute_result"
    }
   ],
   "source": [
    "grid_search_an.best_params_"
   ]
  },
  {
   "cell_type": "code",
   "execution_count": 91,
   "metadata": {},
   "outputs": [],
   "source": [
    "best_grid_an = grid_search_an.best_estimator_"
   ]
  },
  {
   "cell_type": "code",
   "execution_count": 92,
   "metadata": {},
   "outputs": [],
   "source": [
    "ytrain_predict_an = best_grid_an.predict(X_train_an)\n",
    "ytest_predict_an = best_grid_an.predict(X_test_an)"
   ]
  },
  {
   "cell_type": "code",
   "execution_count": 93,
   "metadata": {},
   "outputs": [
    {
     "name": "stdout",
     "output_type": "stream",
     "text": [
      "              precision    recall  f1-score   support\n",
      "\n",
      "           0       0.85      0.86      0.85      1471\n",
      "           1       0.66      0.64      0.65       629\n",
      "\n",
      "    accuracy                           0.79      2100\n",
      "   macro avg       0.75      0.75      0.75      2100\n",
      "weighted avg       0.79      0.79      0.79      2100\n",
      "\n"
     ]
    }
   ],
   "source": [
    "print(classification_report(train_labels_an,ytrain_predict_an))"
   ]
  },
  {
   "cell_type": "code",
   "execution_count": 94,
   "metadata": {},
   "outputs": [
    {
     "name": "stdout",
     "output_type": "stream",
     "text": [
      "              precision    recall  f1-score   support\n",
      "\n",
      "           0       0.79      0.88      0.84       605\n",
      "           1       0.69      0.53      0.60       295\n",
      "\n",
      "    accuracy                           0.77       900\n",
      "   macro avg       0.74      0.71      0.72       900\n",
      "weighted avg       0.76      0.77      0.76       900\n",
      "\n"
     ]
    }
   ],
   "source": [
    "print(classification_report(test_labels_an,ytest_predict_an))"
   ]
  },
  {
   "cell_type": "code",
   "execution_count": 95,
   "metadata": {},
   "outputs": [
    {
     "data": {
      "text/plain": [
       "array([[1333,  138],\n",
       "       [ 309,  320]], dtype=int64)"
      ]
     },
     "execution_count": 95,
     "metadata": {},
     "output_type": "execute_result"
    }
   ],
   "source": [
    "#2.3\n",
    "confusion_matrix(train_labels_rf,ytrain_predict_rf)"
   ]
  },
  {
   "cell_type": "code",
   "execution_count": 96,
   "metadata": {},
   "outputs": [
    {
     "data": {
      "text/plain": [
       "array([[559,  46],\n",
       "       [176, 119]], dtype=int64)"
      ]
     },
     "execution_count": 96,
     "metadata": {},
     "output_type": "execute_result"
    }
   ],
   "source": [
    "confusion_matrix(test_labels_rf,ytest_predict_rf)"
   ]
  },
  {
   "cell_type": "code",
   "execution_count": 97,
   "metadata": {},
   "outputs": [
    {
     "data": {
      "image/png": "[encoded data removed]",
      "text/plain": [
       "<Figure size 432x288 with 1 Axes>"
      ]
     },
     "metadata": {
      "needs_background": "light"
     },
     "output_type": "display_data"
    }
   ],
   "source": [
    "confusion_matrix(train_labels_rf,ytrain_predict_rf)\n",
    "sns.heatmap(confusion_matrix(train_labels_rf,ytrain_predict_rf),annot=True, fmt='d',cbar=False, cmap='rainbow')\n",
    "plt.xlabel('Predicted Label')\n",
    "plt.ylabel('Actual Label')\n",
    "plt.title('Confusion Matrix')\n",
    "plt.show()"
   ]
  },
  {
   "cell_type": "code",
   "execution_count": 98,
   "metadata": {},
   "outputs": [
    {
     "data": {
      "image/png": "[encoded data removed]",
      "text/plain": [
       "<Figure size 432x288 with 1 Axes>"
      ]
     },
     "metadata": {
      "needs_background": "light"
     },
     "output_type": "display_data"
    }
   ],
   "source": [
    "confusion_matrix(test_labels_rf,ytest_predict_rf)\n",
    "sns.heatmap(confusion_matrix(test_labels_rf,ytest_predict_rf),annot=True, fmt='d',cbar=False, cmap='rainbow')\n",
    "plt.xlabel('Predicted Label')\n",
    "plt.ylabel('Actual Label')\n",
    "plt.title('Confusion Matrix')\n",
    "plt.show()"
   ]
  },
  {
   "cell_type": "code",
   "execution_count": 100,
   "metadata": {},
   "outputs": [
    {
     "name": "stdout",
     "output_type": "stream",
     "text": [
      "AUC: 0.831\n"
     ]
    },
    {
     "data": {
      "image/png": "[encoded data removed]",
      "text/plain": [
       "<Figure size 432x288 with 1 Axes>"
      ]
     },
     "metadata": {
      "needs_background": "light"
     },
     "output_type": "display_data"
    }
   ],
   "source": [
    "# AUC and ROC for the training data\n",
    "\n",
    "# predict probabilities\n",
    "probs = best_grid_rf.predict_proba(X_train_rf)\n",
    "# keep probabilities for the positive outcome only\n",
    "probs = probs[:, 1]\n",
    "# calculate AUC\n",
    "from sklearn.metrics import roc_auc_score\n",
    "auc = roc_auc_score(train_labels_rf, probs)\n",
    "print('AUC: %.3f' % auc)\n",
    "# calculate roc curve\n",
    "from sklearn.metrics import roc_curve\n",
    "fpr, tpr, thresholds = roc_curve(train_labels_rf, probs)\n",
    "plt.plot([0, 1], [0, 1], linestyle='--')\n",
    "# plot the roc curve for the model\n",
    "plt.plot(fpr, tpr, marker='.')\n",
    "# show the plot\n",
    "plt.show()"
   ]
  },
  {
   "cell_type": "code",
   "execution_count": 101,
   "metadata": {},
   "outputs": [
    {
     "name": "stdout",
     "output_type": "stream",
     "text": [
      "AUC: 0.813\n"
     ]
    },
    {
     "data": {
      "image/png": "[encoded data removed]",
      "text/plain": [
       "<Figure size 432x288 with 1 Axes>"
      ]
     },
     "metadata": {
      "needs_background": "light"
     },
     "output_type": "display_data"
    }
   ],
   "source": [
    "# AUC and ROC for the test data\n",
    "\n",
    "\n",
    "# predict probabilities\n",
    "probs = best_grid_rf.predict_proba(X_test_rf)\n",
    "# keep probabilities for the positive outcome only\n",
    "probs = probs[:, 1]\n",
    "# calculate AUC\n",
    "from sklearn.metrics import roc_auc_score\n",
    "auc = roc_auc_score(test_labels_rf, probs)\n",
    "print('AUC: %.3f' % auc)\n",
    "# calculate roc curve\n",
    "from sklearn.metrics import roc_curve\n",
    "fpr, tpr, thresholds = roc_curve(test_labels_rf, probs)\n",
    "plt.plot([0, 1], [0, 1], linestyle='--')\n",
    "# plot the roc curve for the model\n",
    "plt.plot(fpr, tpr, marker='.')\n",
    "# show the plot\n",
    "plt.show()"
   ]
  },
  {
   "cell_type": "code",
   "execution_count": 102,
   "metadata": {},
   "outputs": [
    {
     "data": {
      "text/plain": [
       "array([[1327,  144],\n",
       "       [ 312,  317]], dtype=int64)"
      ]
     },
     "execution_count": 102,
     "metadata": {},
     "output_type": "execute_result"
    }
   ],
   "source": [
    "confusion_matrix(train_labels_dt, ytrain_predict_dt)"
   ]
  },
  {
   "cell_type": "code",
   "execution_count": 103,
   "metadata": {},
   "outputs": [
    {
     "data": {
      "text/plain": [
       "array([[556,  49],\n",
       "       [170, 125]], dtype=int64)"
      ]
     },
     "execution_count": 103,
     "metadata": {},
     "output_type": "execute_result"
    }
   ],
   "source": [
    "confusion_matrix(test_labels_dt, ytest_predict_dt)"
   ]
  },
  {
   "cell_type": "code",
   "execution_count": 104,
   "metadata": {},
   "outputs": [
    {
     "data": {
      "image/png": "[encoded data removed]",
      "text/plain": [
       "<Figure size 432x288 with 1 Axes>"
      ]
     },
     "metadata": {
      "needs_background": "light"
     },
     "output_type": "display_data"
    }
   ],
   "source": [
    "confusion_matrix(train_labels_dt,ytrain_predict_dt)\n",
    "sns.heatmap(confusion_matrix(train_labels_dt,ytrain_predict_dt),annot=True, fmt='d',cbar=False, cmap='rainbow')\n",
    "plt.xlabel('Predicted Label')\n",
    "plt.ylabel('Actual Label')\n",
    "plt.title('Confusion Matrix')\n",
    "plt.show()"
   ]
  },
  {
   "cell_type": "code",
   "execution_count": 105,
   "metadata": {},
   "outputs": [
    {
     "data": {
      "image/png": "[encoded data removed]",
      "text/plain": [
       "<Figure size 432x288 with 1 Axes>"
      ]
     },
     "metadata": {
      "needs_background": "light"
     },
     "output_type": "display_data"
    }
   ],
   "source": [
    "confusion_matrix(test_labels_dt,ytest_predict_dt)\n",
    "sns.heatmap(confusion_matrix(test_labels_dt,ytest_predict_dt),annot=True, fmt='d',cbar=False, cmap='rainbow')\n",
    "plt.xlabel('Predicted Label')\n",
    "plt.ylabel('Actual Label')\n",
    "plt.title('Confusion Matrix')\n",
    "plt.show()"
   ]
  },
  {
   "cell_type": "code",
   "execution_count": 106,
   "metadata": {},
   "outputs": [
    {
     "name": "stdout",
     "output_type": "stream",
     "text": [
      "AUC: 0.825\n"
     ]
    },
    {
     "data": {
      "image/png": "[encoded data removed]",
      "text/plain": [
       "<Figure size 432x288 with 1 Axes>"
      ]
     },
     "metadata": {
      "needs_background": "light"
     },
     "output_type": "display_data"
    }
   ],
   "source": [
    "# predict probabilities\n",
    "probs_dt = reg_dt_model.predict_proba(X_train_dt)\n",
    "# keep probabilities for the positive outcome only\n",
    "probs_dt = probs_dt[:, 1]\n",
    "# calculate AUC\n",
    "from sklearn.metrics import roc_auc_score\n",
    "auc_dt = roc_auc_score(train_labels_dt, probs_dt)\n",
    "print('AUC: %.3f' % auc_dt)\n",
    "# calculate roc curve\n",
    "from sklearn.metrics import roc_curve\n",
    "fpr_dt, tpr_dt, thresholds_dt = roc_curve(train_labels_dt, probs_dt)\n",
    "plt.plot([0, 1], [0, 1], linestyle='--')\n",
    "# plot the roc curve for the model\n",
    "plt.plot(fpr_dt, tpr_dt, marker='.')\n",
    "# show the plot\n",
    "plt.show()"
   ]
  },
  {
   "cell_type": "code",
   "execution_count": 107,
   "metadata": {},
   "outputs": [
    {
     "name": "stdout",
     "output_type": "stream",
     "text": [
      "AUC: 0.799\n"
     ]
    },
    {
     "data": {
      "image/png": "[encoded data removed]",
      "text/plain": [
       "<Figure size 432x288 with 1 Axes>"
      ]
     },
     "metadata": {
      "needs_background": "light"
     },
     "output_type": "display_data"
    }
   ],
   "source": [
    "# predict probabilities\n",
    "probs_dt = reg_dt_model.predict_proba(X_test_dt)\n",
    "# keep probabilities for the positive outcome only\n",
    "probs_dt = probs_dt[:, 1]\n",
    "# calculate AUC\n",
    "from sklearn.metrics import roc_auc_score\n",
    "auc_dt = roc_auc_score(test_labels_dt, probs_dt)\n",
    "print('AUC: %.3f' % auc_dt)\n",
    "# calculate roc curve\n",
    "from sklearn.metrics import roc_curve\n",
    "fpr_dt, tpr_dt, thresholds_dt = roc_curve(test_labels_dt, probs_dt)\n",
    "plt.plot([0, 1], [0, 1], linestyle='--')\n",
    "# plot the roc curve for the model\n",
    "plt.plot(fpr_dt, tpr_dt, marker='.')\n",
    "# show the plot\n",
    "plt.show()"
   ]
  },
  {
   "cell_type": "code",
   "execution_count": 108,
   "metadata": {},
   "outputs": [
    {
     "data": {
      "text/plain": [
       "array([[1262,  209],\n",
       "       [ 225,  404]], dtype=int64)"
      ]
     },
     "execution_count": 108,
     "metadata": {},
     "output_type": "execute_result"
    }
   ],
   "source": [
    "confusion_matrix(train_labels_an, ytrain_predict_an)"
   ]
  },
  {
   "cell_type": "code",
   "execution_count": 109,
   "metadata": {},
   "outputs": [
    {
     "data": {
      "text/plain": [
       "array([[533,  72],\n",
       "       [138, 157]], dtype=int64)"
      ]
     },
     "execution_count": 109,
     "metadata": {},
     "output_type": "execute_result"
    }
   ],
   "source": [
    "confusion_matrix(test_labels_an, ytest_predict_an)"
   ]
  },
  {
   "cell_type": "code",
   "execution_count": 110,
   "metadata": {},
   "outputs": [
    {
     "data": {
      "image/png": "[encoded data removed]",
      "text/plain": [
       "<Figure size 432x288 with 1 Axes>"
      ]
     },
     "metadata": {
      "needs_background": "light"
     },
     "output_type": "display_data"
    }
   ],
   "source": [
    "confusion_matrix(train_labels_an,ytrain_predict_an)\n",
    "sns.heatmap(confusion_matrix(train_labels_an,ytrain_predict_an),annot=True, fmt='d',cbar=False, cmap='rainbow')\n",
    "plt.xlabel('Predicted Label')\n",
    "plt.ylabel('Actual Label')\n",
    "plt.title('Confusion Matrix')\n",
    "plt.show()"
   ]
  },
  {
   "cell_type": "code",
   "execution_count": 111,
   "metadata": {},
   "outputs": [
    {
     "data": {
      "image/png": "[encoded data removed]",
      "text/plain": [
       "<Figure size 432x288 with 1 Axes>"
      ]
     },
     "metadata": {
      "needs_background": "light"
     },
     "output_type": "display_data"
    }
   ],
   "source": [
    "confusion_matrix(test_labels_an,ytest_predict_an)\n",
    "sns.heatmap(confusion_matrix(test_labels_an,ytest_predict_an),annot=True, fmt='d',cbar=False, cmap='rainbow')\n",
    "plt.xlabel('Predicted Label')\n",
    "plt.ylabel('Actual Label')\n",
    "plt.title('Confusion Matrix')\n",
    "plt.show()"
   ]
  },
  {
   "cell_type": "code",
   "execution_count": 113,
   "metadata": {},
   "outputs": [
    {
     "name": "stdout",
     "output_type": "stream",
     "text": [
      "AUC: 0.843\n"
     ]
    },
    {
     "data": {
      "image/png": "[encoded data removed]",
      "text/plain": [
       "<Figure size 432x288 with 1 Axes>"
      ]
     },
     "metadata": {
      "needs_background": "light"
     },
     "output_type": "display_data"
    }
   ],
   "source": [
    "# AUC and ROC for the training data\n",
    "\n",
    "# predict probabilities\n",
    "probs_an = best_grid_an.predict_proba(X_train_an)\n",
    "# keep probabilities for the positive outcome only\n",
    "probs_an = probs_an[:, 1]\n",
    "# calculate AUC\n",
    "from sklearn.metrics import roc_auc_score\n",
    "auc_an = roc_auc_score(train_labels_an, probs_an)\n",
    "print('AUC: %.3f' % auc_an)\n",
    "# calculate roc curve\n",
    "from sklearn.metrics import roc_curve\n",
    "fpr_an, tpr_an, thresholds_an = roc_curve(train_labels_an, probs_an)\n",
    "plt.plot([0, 1], [0, 1], linestyle='--')\n",
    "# plot the roc curve for the model\n",
    "plt.plot(fpr_an, tpr_an, marker='.')\n",
    "# show the plot\n",
    "plt.show()"
   ]
  },
  {
   "cell_type": "code",
   "execution_count": 114,
   "metadata": {},
   "outputs": [
    {
     "name": "stdout",
     "output_type": "stream",
     "text": [
      "AUC: 0.813\n"
     ]
    },
    {
     "data": {
      "image/png": "[encoded data removed]",
      "text/plain": [
       "<Figure size 432x288 with 1 Axes>"
      ]
     },
     "metadata": {
      "needs_background": "light"
     },
     "output_type": "display_data"
    }
   ],
   "source": [
    "# predict probabilities\n",
    "probs_an = best_grid_an.predict_proba(X_test_an)\n",
    "# keep probabilities for the positive outcome only\n",
    "probs_an = probs_an[:, 1]\n",
    "# calculate AUC\n",
    "from sklearn.metrics import roc_auc_score\n",
    "auc_an = roc_auc_score(test_labels_an, probs_an)\n",
    "print('AUC: %.3f' % auc_an)\n",
    "# calculate roc curve\n",
    "from sklearn.metrics import roc_curve\n",
    "fpr_an, tpr_an, thresholds_an = roc_curve(test_labels_an, probs_an)\n",
    "plt.plot([0, 1], [0, 1], linestyle='--')\n",
    "# plot the roc curve for the model\n",
    "plt.plot(fpr_an, tpr_an, marker='.')\n",
    "# show the plot\n",
    "plt.show()"
   ]
  },
  {
   "cell_type": "code",
   "execution_count": null,
   "metadata": {},
   "outputs": [],
   "source": []
  }
 ],
 "metadata": {
  "kernelspec": {
   "display_name": "Python 3",
   "language": "python",
   "name": "python3"
  },
  "language_info": {
   "codemirror_mode": {
    "name": "ipython",
    "version": 3
   },
   "file_extension": ".py",
   "mimetype": "text/x-python",
   "name": "python",
   "nbconvert_exporter": "python",
   "pygments_lexer": "ipython3",
   "version": "3.7.3"
  }
 },
 "nbformat": 4,
 "nbformat_minor": 2
}
